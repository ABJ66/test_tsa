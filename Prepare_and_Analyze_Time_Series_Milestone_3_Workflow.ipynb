{
  "cells": [
    {
      "cell_type": "markdown",
      "metadata": {
        "id": "view-in-github",
        "colab_type": "text"
      },
      "source": [
        "<a href=\"https://colab.research.google.com/github/ABJ66/test_tsa/blob/main/Prepare_and_Analyze_Time_Series_Milestone_3_Workflow.ipynb\" target=\"_parent\"><img src=\"https://colab.research.google.com/assets/colab-badge.svg\" alt=\"Open In Colab\"/></a>"
      ]
    },
    {
      "cell_type": "markdown",
      "metadata": {
        "id": "BGA1391_mTcd"
      },
      "source": [
        "# Prepare and Analyze Time Series - Milestone 3"
      ]
    },
    {
      "cell_type": "markdown",
      "metadata": {
        "id": "UCoKyonxmTcq"
      },
      "source": [
        "This Jupyter notebook serves as a guided workflow to Milestone 3 of the liveProject on End-to-end Time Series Forecasting with Deep Learning.\n",
        "\n",
        "You can upload this notebook to Colab and work from there. Alternatively, you can also work on this notebook in your local environment."
      ]
    },
    {
      "cell_type": "markdown",
      "metadata": {
        "id": "X-4J5BdjmTdE"
      },
      "source": [
        "Great job on completing previous Milestones and reaching the final MileStone! We have processed, cleaned and analyzed the data so we can now proceed with our modeling as shown in the diagram below."
      ]
    },
    {
      "cell_type": "markdown",
      "metadata": {
        "id": "iUWpopHgmTdW"
      },
      "source": [
        "![Milestone 3](https://s3.ap-southeast-1.amazonaws.com/www.jiahao.io/manning/project1_milestone3.png)"
      ]
    },
    {
      "cell_type": "markdown",
      "metadata": {
        "id": "Vk6K1WLTmTdo"
      },
      "source": [
        "In this final Milestone 3, we shall complete 3 tasks:\n",
        "1. Build baseline model using Naive and sNaive methods\n",
        "2. Understand the various metrics for evaluation of time series model and decide on our metrics\n",
        "3. Set up model using Facebook Prophet for comparison\n",
        "\n",
        "Without further ado, let's begin!"
      ]
    },
    {
      "cell_type": "markdown",
      "metadata": {
        "id": "NDvJNgLbmTdw"
      },
      "source": [
        "## Importing Necessary Libraries and Functions"
      ]
    },
    {
      "cell_type": "markdown",
      "metadata": {
        "id": "NCTwtClomTeG"
      },
      "source": [
        "Let us first import the necessary libraries and load the data that we will be working with throughout this Milestone. \n",
        "\n",
        "The data (data/sales_cleaned.csv) that we are using is an output from previous Milestone. \n",
        "\n",
        "Again, recall that in this liveProject, you are a data scientist at a large retailer and your challenge is to forecast the sales of the respective stores by each category for the next 28 days."
      ]
    },
    {
      "cell_type": "code",
      "execution_count": 2,
      "metadata": {
        "colab": {
          "base_uri": "https://localhost:8080/"
        },
        "id": "JEG0WY0pmTeh",
        "outputId": "e25e97bc-8e1d-4c42-e3cf-94166dce1cdb"
      },
      "outputs": [
        {
          "output_type": "stream",
          "name": "stdout",
          "text": [
            "Requirement already satisfied: prophet in /usr/local/lib/python3.7/dist-packages (1.0.1)\n",
            "Requirement already satisfied: holidays>=0.10.2 in /usr/local/lib/python3.7/dist-packages (from prophet) (0.10.5.2)\n",
            "Requirement already satisfied: LunarCalendar>=0.0.9 in /usr/local/lib/python3.7/dist-packages (from prophet) (0.0.9)\n",
            "Requirement already satisfied: python-dateutil>=2.8.0 in /usr/local/lib/python3.7/dist-packages (from prophet) (2.8.2)\n",
            "Requirement already satisfied: numpy>=1.15.4 in /usr/local/lib/python3.7/dist-packages (from prophet) (1.21.5)\n",
            "Requirement already satisfied: tqdm>=4.36.1 in /usr/local/lib/python3.7/dist-packages (from prophet) (4.63.0)\n",
            "Requirement already satisfied: Cython>=0.22 in /usr/local/lib/python3.7/dist-packages (from prophet) (0.29.28)\n",
            "Requirement already satisfied: pystan~=2.19.1.1 in /usr/local/lib/python3.7/dist-packages (from prophet) (2.19.1.1)\n",
            "Requirement already satisfied: matplotlib>=2.0.0 in /usr/local/lib/python3.7/dist-packages (from prophet) (3.2.2)\n",
            "Requirement already satisfied: cmdstanpy==0.9.68 in /usr/local/lib/python3.7/dist-packages (from prophet) (0.9.68)\n",
            "Requirement already satisfied: setuptools-git>=1.2 in /usr/local/lib/python3.7/dist-packages (from prophet) (1.2)\n",
            "Requirement already satisfied: pandas>=1.0.4 in /usr/local/lib/python3.7/dist-packages (from prophet) (1.3.5)\n",
            "Requirement already satisfied: convertdate>=2.1.2 in /usr/local/lib/python3.7/dist-packages (from prophet) (2.4.0)\n",
            "Requirement already satisfied: ujson in /usr/local/lib/python3.7/dist-packages (from cmdstanpy==0.9.68->prophet) (5.1.0)\n",
            "Requirement already satisfied: pymeeus<=1,>=0.3.13 in /usr/local/lib/python3.7/dist-packages (from convertdate>=2.1.2->prophet) (0.5.11)\n",
            "Requirement already satisfied: hijri-converter in /usr/local/lib/python3.7/dist-packages (from holidays>=0.10.2->prophet) (2.2.3)\n",
            "Requirement already satisfied: korean-lunar-calendar in /usr/local/lib/python3.7/dist-packages (from holidays>=0.10.2->prophet) (0.2.1)\n",
            "Requirement already satisfied: six in /usr/local/lib/python3.7/dist-packages (from holidays>=0.10.2->prophet) (1.15.0)\n",
            "Requirement already satisfied: pytz in /usr/local/lib/python3.7/dist-packages (from LunarCalendar>=0.0.9->prophet) (2018.9)\n",
            "Requirement already satisfied: ephem>=3.7.5.3 in /usr/local/lib/python3.7/dist-packages (from LunarCalendar>=0.0.9->prophet) (4.1.3)\n",
            "Requirement already satisfied: pyparsing!=2.0.4,!=2.1.2,!=2.1.6,>=2.0.1 in /usr/local/lib/python3.7/dist-packages (from matplotlib>=2.0.0->prophet) (3.0.7)\n",
            "Requirement already satisfied: kiwisolver>=1.0.1 in /usr/local/lib/python3.7/dist-packages (from matplotlib>=2.0.0->prophet) (1.3.2)\n",
            "Requirement already satisfied: cycler>=0.10 in /usr/local/lib/python3.7/dist-packages (from matplotlib>=2.0.0->prophet) (0.11.0)\n"
          ]
        }
      ],
      "source": [
        "RunningInCOLAB = 'google.colab' in str(get_ipython())\n",
        "\n",
        "# import necessary libraries\n",
        "import pandas as pd\n",
        "import numpy as np\n",
        "import matplotlib.pyplot as plt\n",
        "import seaborn as sns\n",
        "from tqdm import tqdm\n",
        "if RunningInCOLAB:\n",
        "  !pip install prophet\n",
        "from prophet import Prophet\n",
        "import itertools\n",
        "\n",
        "%matplotlib inline\n",
        "\n",
        "# suppress pandas SettingWithCopyWarning \n",
        "pd.options.mode.chained_assignment = None"
      ]
    },
    {
      "cell_type": "markdown",
      "metadata": {
        "id": "8WIRkwOnmTe7"
      },
      "source": [
        "## Building our Baseline Model"
      ]
    },
    {
      "cell_type": "markdown",
      "metadata": {
        "id": "I3UE3pZnmTfk"
      },
      "source": [
        "In order to know how well our models are performing, we need a baseline model for reference. The baseline model will use a very quick and simple method (in our case, Naive or sNaive method) and our models must have better performance than the baseline to be useful."
      ]
    },
    {
      "cell_type": "markdown",
      "metadata": {
        "id": "Z1upSjbXmTfr"
      },
      "source": [
        "The Naive method uses the last known observation of the time series as forecasts for the next 28 days.\n",
        "\n",
        "The Seasonal Naive (sNaive) method is similar to the Naive method, but this time the forecasts of the model are equal to the last known observation of the same seasonal period. In our case, we will set the period as 7 days based on our analysis in previous Milestone."
      ]
    },
    {
      "cell_type": "markdown",
      "metadata": {
        "id": "AQA8bLjmmTfs"
      },
      "source": [
        "<ins>Instructions</ins>:<br>\n",
        "- Let's read in our sales_cleaned.csv data and paste our train-test split function from previous Milestone."
      ]
    },
    {
      "cell_type": "markdown",
      "metadata": {
        "id": "18QwbLMkDv0B"
      },
      "source": [
        "<ins>Hints</ins> (click when needed):<br>\n",
        "- [Follow the example code here to upload files to Colab from your local file system](https://colab.research.google.com/notebooks/io.ipynb)\n",
        "- [Use Pandas `read_csv` function to load CSV data](https://pandas.pydata.org/pandas-docs/stable/reference/api/pandas.read_csv.html)"
      ]
    },
    {
      "cell_type": "code",
      "execution_count": 3,
      "metadata": {
        "id": "arEZHWSam7gA"
      },
      "outputs": [],
      "source": [
        "# upload file from Colab\n",
        "sales_processed_df = pd.read_csv('/content/sales_cleaned_aj.csv', parse_dates=['date'])"
      ]
    },
    {
      "cell_type": "code",
      "source": [
        "sales_processed_df.head()"
      ],
      "metadata": {
        "colab": {
          "base_uri": "https://localhost:8080/",
          "height": 206
        },
        "id": "i2VRF5zzFMmP",
        "outputId": "fe974f90-3a93-434b-f655-55ab1183362c"
      },
      "execution_count": 4,
      "outputs": [
        {
          "output_type": "execute_result",
          "data": {
            "text/plain": [
              "        date store_id cat_id    sales\n",
              "0 2011-01-29     TX_1  FOODS  3950.35\n",
              "1 2011-01-30     TX_1  FOODS  3844.97\n",
              "2 2011-01-31     TX_1  FOODS  2888.03\n",
              "3 2011-02-01     TX_1  FOODS  3631.28\n",
              "4 2011-02-02     TX_1  FOODS  3072.18"
            ],
            "text/html": [
              "\n",
              "  <div id=\"df-06929365-6d4d-4c05-ba34-efb6a2c00ff1\">\n",
              "    <div class=\"colab-df-container\">\n",
              "      <div>\n",
              "<style scoped>\n",
              "    .dataframe tbody tr th:only-of-type {\n",
              "        vertical-align: middle;\n",
              "    }\n",
              "\n",
              "    .dataframe tbody tr th {\n",
              "        vertical-align: top;\n",
              "    }\n",
              "\n",
              "    .dataframe thead th {\n",
              "        text-align: right;\n",
              "    }\n",
              "</style>\n",
              "<table border=\"1\" class=\"dataframe\">\n",
              "  <thead>\n",
              "    <tr style=\"text-align: right;\">\n",
              "      <th></th>\n",
              "      <th>date</th>\n",
              "      <th>store_id</th>\n",
              "      <th>cat_id</th>\n",
              "      <th>sales</th>\n",
              "    </tr>\n",
              "  </thead>\n",
              "  <tbody>\n",
              "    <tr>\n",
              "      <th>0</th>\n",
              "      <td>2011-01-29</td>\n",
              "      <td>TX_1</td>\n",
              "      <td>FOODS</td>\n",
              "      <td>3950.35</td>\n",
              "    </tr>\n",
              "    <tr>\n",
              "      <th>1</th>\n",
              "      <td>2011-01-30</td>\n",
              "      <td>TX_1</td>\n",
              "      <td>FOODS</td>\n",
              "      <td>3844.97</td>\n",
              "    </tr>\n",
              "    <tr>\n",
              "      <th>2</th>\n",
              "      <td>2011-01-31</td>\n",
              "      <td>TX_1</td>\n",
              "      <td>FOODS</td>\n",
              "      <td>2888.03</td>\n",
              "    </tr>\n",
              "    <tr>\n",
              "      <th>3</th>\n",
              "      <td>2011-02-01</td>\n",
              "      <td>TX_1</td>\n",
              "      <td>FOODS</td>\n",
              "      <td>3631.28</td>\n",
              "    </tr>\n",
              "    <tr>\n",
              "      <th>4</th>\n",
              "      <td>2011-02-02</td>\n",
              "      <td>TX_1</td>\n",
              "      <td>FOODS</td>\n",
              "      <td>3072.18</td>\n",
              "    </tr>\n",
              "  </tbody>\n",
              "</table>\n",
              "</div>\n",
              "      <button class=\"colab-df-convert\" onclick=\"convertToInteractive('df-06929365-6d4d-4c05-ba34-efb6a2c00ff1')\"\n",
              "              title=\"Convert this dataframe to an interactive table.\"\n",
              "              style=\"display:none;\">\n",
              "        \n",
              "  <svg xmlns=\"http://www.w3.org/2000/svg\" height=\"24px\"viewBox=\"0 0 24 24\"\n",
              "       width=\"24px\">\n",
              "    <path d=\"M0 0h24v24H0V0z\" fill=\"none\"/>\n",
              "    <path d=\"M18.56 5.44l.94 2.06.94-2.06 2.06-.94-2.06-.94-.94-2.06-.94 2.06-2.06.94zm-11 1L8.5 8.5l.94-2.06 2.06-.94-2.06-.94L8.5 2.5l-.94 2.06-2.06.94zm10 10l.94 2.06.94-2.06 2.06-.94-2.06-.94-.94-2.06-.94 2.06-2.06.94z\"/><path d=\"M17.41 7.96l-1.37-1.37c-.4-.4-.92-.59-1.43-.59-.52 0-1.04.2-1.43.59L10.3 9.45l-7.72 7.72c-.78.78-.78 2.05 0 2.83L4 21.41c.39.39.9.59 1.41.59.51 0 1.02-.2 1.41-.59l7.78-7.78 2.81-2.81c.8-.78.8-2.07 0-2.86zM5.41 20L4 18.59l7.72-7.72 1.47 1.35L5.41 20z\"/>\n",
              "  </svg>\n",
              "      </button>\n",
              "      \n",
              "  <style>\n",
              "    .colab-df-container {\n",
              "      display:flex;\n",
              "      flex-wrap:wrap;\n",
              "      gap: 12px;\n",
              "    }\n",
              "\n",
              "    .colab-df-convert {\n",
              "      background-color: #E8F0FE;\n",
              "      border: none;\n",
              "      border-radius: 50%;\n",
              "      cursor: pointer;\n",
              "      display: none;\n",
              "      fill: #1967D2;\n",
              "      height: 32px;\n",
              "      padding: 0 0 0 0;\n",
              "      width: 32px;\n",
              "    }\n",
              "\n",
              "    .colab-df-convert:hover {\n",
              "      background-color: #E2EBFA;\n",
              "      box-shadow: 0px 1px 2px rgba(60, 64, 67, 0.3), 0px 1px 3px 1px rgba(60, 64, 67, 0.15);\n",
              "      fill: #174EA6;\n",
              "    }\n",
              "\n",
              "    [theme=dark] .colab-df-convert {\n",
              "      background-color: #3B4455;\n",
              "      fill: #D2E3FC;\n",
              "    }\n",
              "\n",
              "    [theme=dark] .colab-df-convert:hover {\n",
              "      background-color: #434B5C;\n",
              "      box-shadow: 0px 1px 3px 1px rgba(0, 0, 0, 0.15);\n",
              "      filter: drop-shadow(0px 1px 2px rgba(0, 0, 0, 0.3));\n",
              "      fill: #FFFFFF;\n",
              "    }\n",
              "  </style>\n",
              "\n",
              "      <script>\n",
              "        const buttonEl =\n",
              "          document.querySelector('#df-06929365-6d4d-4c05-ba34-efb6a2c00ff1 button.colab-df-convert');\n",
              "        buttonEl.style.display =\n",
              "          google.colab.kernel.accessAllowed ? 'block' : 'none';\n",
              "\n",
              "        async function convertToInteractive(key) {\n",
              "          const element = document.querySelector('#df-06929365-6d4d-4c05-ba34-efb6a2c00ff1');\n",
              "          const dataTable =\n",
              "            await google.colab.kernel.invokeFunction('convertToInteractive',\n",
              "                                                     [key], {});\n",
              "          if (!dataTable) return;\n",
              "\n",
              "          const docLinkHtml = 'Like what you see? Visit the ' +\n",
              "            '<a target=\"_blank\" href=https://colab.research.google.com/notebooks/data_table.ipynb>data table notebook</a>'\n",
              "            + ' to learn more about interactive tables.';\n",
              "          element.innerHTML = '';\n",
              "          dataTable['output_type'] = 'display_data';\n",
              "          await google.colab.output.renderOutput(dataTable, element);\n",
              "          const docLink = document.createElement('div');\n",
              "          docLink.innerHTML = docLinkHtml;\n",
              "          element.appendChild(docLink);\n",
              "        }\n",
              "      </script>\n",
              "    </div>\n",
              "  </div>\n",
              "  "
            ]
          },
          "metadata": {},
          "execution_count": 4
        }
      ]
    },
    {
      "cell_type": "code",
      "execution_count": null,
      "metadata": {
        "id": "TS8isDvwmTf4"
      },
      "outputs": [],
      "source": [
        "# read in our processed data\n",
        "# by using parse_dates in parameter of read_csv, we can convert date column to datetime format without additional step\n"
      ]
    },
    {
      "cell_type": "code",
      "execution_count": 5,
      "metadata": {
        "id": "QZA67XNymTgD"
      },
      "outputs": [],
      "source": [
        "# copy and paste the train-test split function from previous Milestone\n",
        "def get_cv_split(df, split_num, prediction_length=28, validation=True):\n",
        "    \"\"\"\n",
        "    Implement train-test split given a cv split number and return training, val and test data\n",
        "    \"\"\"\n",
        "    if 'series_id' not in df.columns:\n",
        "        df['series_id'] = df['store_id'] + '_' + df['cat_id']\n",
        "    series_list = df['series_id'].unique()\n",
        "\n",
        "    test_list = []\n",
        "    validation_list = []\n",
        "    training_list = []\n",
        "\n",
        "    for series in series_list:\n",
        "        df_series = df.loc[df.series_id==series]\n",
        "        max_date = df_series.date.max()\n",
        "        min_date = df_series.date.min()\n",
        "        test_lower_date = max_date - pd.Timedelta(f\"{prediction_length*((split_num+1)*2-1)} days\")\n",
        "        test_upper_date = max_date - pd.Timedelta(f\"{prediction_length*(split_num*2)} days\")\n",
        "        val_lower_date = max_date - pd.Timedelta(f\"{prediction_length*(split_num+1)*2} days\")\n",
        "        if min(test_lower_date, test_upper_date) < min_date:\n",
        "            raise Exception(\"Insufficient data for splitting\")\n",
        "\n",
        "        df_series_test = df_series.loc[(df_series.date > test_lower_date) & (df_series.date <= test_upper_date)]\n",
        "        if validation:\n",
        "            df_series_val = df_series.loc[(df_series.date > val_lower_date) & (df_series.date <= test_lower_date)]\n",
        "            df_series_train = df_series.loc[df_series.date <= val_lower_date]\n",
        "        else:\n",
        "            df_series_val = pd.DataFrame()\n",
        "            df_series_train = df_series.loc[df_series.date <= test_lower_date]\n",
        "        test_list.append(df_series_test)\n",
        "        validation_list.append(df_series_val)\n",
        "        training_list.append(df_series_train)\n",
        "\n",
        "    test_df = pd.concat(test_list)\n",
        "    validation_df = pd.concat(validation_list)\n",
        "    training_df = pd.concat(training_list)\n",
        "    return training_df, validation_df, test_df"
      ]
    },
    {
      "cell_type": "code",
      "source": [
        ""
      ],
      "metadata": {
        "id": "uA0vbbjyIEqJ"
      },
      "execution_count": 5,
      "outputs": []
    },
    {
      "cell_type": "markdown",
      "metadata": {
        "id": "c_wn8e3pmTgI"
      },
      "source": [
        "<ins>Instructions</ins>:<br>\n",
        "- Now let's start off with implementing the Naive method. Develop a function that will take in the training and test data and return a dataframe containing the test data and corresponding predictions."
      ]
    },
    {
      "cell_type": "markdown",
      "metadata": {
        "id": "qtDCBnR-Dv0K"
      },
      "source": [
        "<ins>Hints</ins> (click when needed):<br>\n",
        "- [Refer to the section on \"Start with a Naive Approach\" to understand more about the Naive method](https://www.analyticsvidhya.com/blog/2018/02/time-series-forecasting-methods/)\n"
      ]
    },
    {
      "cell_type": "code",
      "source": [
        "training_df.head()"
      ],
      "metadata": {
        "colab": {
          "base_uri": "https://localhost:8080/",
          "height": 206
        },
        "id": "wRX-UXQkHY36",
        "outputId": "6fd6000c-2ee3-4143-c926-5eb3158cf7be"
      },
      "execution_count": 8,
      "outputs": [
        {
          "output_type": "execute_result",
          "data": {
            "text/plain": [
              "        date store_id cat_id    sales   series_id\n",
              "0 2011-01-29     TX_1  FOODS  3950.35  TX_1_FOODS\n",
              "1 2011-01-30     TX_1  FOODS  3844.97  TX_1_FOODS\n",
              "2 2011-01-31     TX_1  FOODS  2888.03  TX_1_FOODS\n",
              "3 2011-02-01     TX_1  FOODS  3631.28  TX_1_FOODS\n",
              "4 2011-02-02     TX_1  FOODS  3072.18  TX_1_FOODS"
            ],
            "text/html": [
              "\n",
              "  <div id=\"df-77110359-e488-4358-9f11-24812254230c\">\n",
              "    <div class=\"colab-df-container\">\n",
              "      <div>\n",
              "<style scoped>\n",
              "    .dataframe tbody tr th:only-of-type {\n",
              "        vertical-align: middle;\n",
              "    }\n",
              "\n",
              "    .dataframe tbody tr th {\n",
              "        vertical-align: top;\n",
              "    }\n",
              "\n",
              "    .dataframe thead th {\n",
              "        text-align: right;\n",
              "    }\n",
              "</style>\n",
              "<table border=\"1\" class=\"dataframe\">\n",
              "  <thead>\n",
              "    <tr style=\"text-align: right;\">\n",
              "      <th></th>\n",
              "      <th>date</th>\n",
              "      <th>store_id</th>\n",
              "      <th>cat_id</th>\n",
              "      <th>sales</th>\n",
              "      <th>series_id</th>\n",
              "    </tr>\n",
              "  </thead>\n",
              "  <tbody>\n",
              "    <tr>\n",
              "      <th>0</th>\n",
              "      <td>2011-01-29</td>\n",
              "      <td>TX_1</td>\n",
              "      <td>FOODS</td>\n",
              "      <td>3950.35</td>\n",
              "      <td>TX_1_FOODS</td>\n",
              "    </tr>\n",
              "    <tr>\n",
              "      <th>1</th>\n",
              "      <td>2011-01-30</td>\n",
              "      <td>TX_1</td>\n",
              "      <td>FOODS</td>\n",
              "      <td>3844.97</td>\n",
              "      <td>TX_1_FOODS</td>\n",
              "    </tr>\n",
              "    <tr>\n",
              "      <th>2</th>\n",
              "      <td>2011-01-31</td>\n",
              "      <td>TX_1</td>\n",
              "      <td>FOODS</td>\n",
              "      <td>2888.03</td>\n",
              "      <td>TX_1_FOODS</td>\n",
              "    </tr>\n",
              "    <tr>\n",
              "      <th>3</th>\n",
              "      <td>2011-02-01</td>\n",
              "      <td>TX_1</td>\n",
              "      <td>FOODS</td>\n",
              "      <td>3631.28</td>\n",
              "      <td>TX_1_FOODS</td>\n",
              "    </tr>\n",
              "    <tr>\n",
              "      <th>4</th>\n",
              "      <td>2011-02-02</td>\n",
              "      <td>TX_1</td>\n",
              "      <td>FOODS</td>\n",
              "      <td>3072.18</td>\n",
              "      <td>TX_1_FOODS</td>\n",
              "    </tr>\n",
              "  </tbody>\n",
              "</table>\n",
              "</div>\n",
              "      <button class=\"colab-df-convert\" onclick=\"convertToInteractive('df-77110359-e488-4358-9f11-24812254230c')\"\n",
              "              title=\"Convert this dataframe to an interactive table.\"\n",
              "              style=\"display:none;\">\n",
              "        \n",
              "  <svg xmlns=\"http://www.w3.org/2000/svg\" height=\"24px\"viewBox=\"0 0 24 24\"\n",
              "       width=\"24px\">\n",
              "    <path d=\"M0 0h24v24H0V0z\" fill=\"none\"/>\n",
              "    <path d=\"M18.56 5.44l.94 2.06.94-2.06 2.06-.94-2.06-.94-.94-2.06-.94 2.06-2.06.94zm-11 1L8.5 8.5l.94-2.06 2.06-.94-2.06-.94L8.5 2.5l-.94 2.06-2.06.94zm10 10l.94 2.06.94-2.06 2.06-.94-2.06-.94-.94-2.06-.94 2.06-2.06.94z\"/><path d=\"M17.41 7.96l-1.37-1.37c-.4-.4-.92-.59-1.43-.59-.52 0-1.04.2-1.43.59L10.3 9.45l-7.72 7.72c-.78.78-.78 2.05 0 2.83L4 21.41c.39.39.9.59 1.41.59.51 0 1.02-.2 1.41-.59l7.78-7.78 2.81-2.81c.8-.78.8-2.07 0-2.86zM5.41 20L4 18.59l7.72-7.72 1.47 1.35L5.41 20z\"/>\n",
              "  </svg>\n",
              "      </button>\n",
              "      \n",
              "  <style>\n",
              "    .colab-df-container {\n",
              "      display:flex;\n",
              "      flex-wrap:wrap;\n",
              "      gap: 12px;\n",
              "    }\n",
              "\n",
              "    .colab-df-convert {\n",
              "      background-color: #E8F0FE;\n",
              "      border: none;\n",
              "      border-radius: 50%;\n",
              "      cursor: pointer;\n",
              "      display: none;\n",
              "      fill: #1967D2;\n",
              "      height: 32px;\n",
              "      padding: 0 0 0 0;\n",
              "      width: 32px;\n",
              "    }\n",
              "\n",
              "    .colab-df-convert:hover {\n",
              "      background-color: #E2EBFA;\n",
              "      box-shadow: 0px 1px 2px rgba(60, 64, 67, 0.3), 0px 1px 3px 1px rgba(60, 64, 67, 0.15);\n",
              "      fill: #174EA6;\n",
              "    }\n",
              "\n",
              "    [theme=dark] .colab-df-convert {\n",
              "      background-color: #3B4455;\n",
              "      fill: #D2E3FC;\n",
              "    }\n",
              "\n",
              "    [theme=dark] .colab-df-convert:hover {\n",
              "      background-color: #434B5C;\n",
              "      box-shadow: 0px 1px 3px 1px rgba(0, 0, 0, 0.15);\n",
              "      filter: drop-shadow(0px 1px 2px rgba(0, 0, 0, 0.3));\n",
              "      fill: #FFFFFF;\n",
              "    }\n",
              "  </style>\n",
              "\n",
              "      <script>\n",
              "        const buttonEl =\n",
              "          document.querySelector('#df-77110359-e488-4358-9f11-24812254230c button.colab-df-convert');\n",
              "        buttonEl.style.display =\n",
              "          google.colab.kernel.accessAllowed ? 'block' : 'none';\n",
              "\n",
              "        async function convertToInteractive(key) {\n",
              "          const element = document.querySelector('#df-77110359-e488-4358-9f11-24812254230c');\n",
              "          const dataTable =\n",
              "            await google.colab.kernel.invokeFunction('convertToInteractive',\n",
              "                                                     [key], {});\n",
              "          if (!dataTable) return;\n",
              "\n",
              "          const docLinkHtml = 'Like what you see? Visit the ' +\n",
              "            '<a target=\"_blank\" href=https://colab.research.google.com/notebooks/data_table.ipynb>data table notebook</a>'\n",
              "            + ' to learn more about interactive tables.';\n",
              "          element.innerHTML = '';\n",
              "          dataTable['output_type'] = 'display_data';\n",
              "          await google.colab.output.renderOutput(dataTable, element);\n",
              "          const docLink = document.createElement('div');\n",
              "          docLink.innerHTML = docLinkHtml;\n",
              "          element.appendChild(docLink);\n",
              "        }\n",
              "      </script>\n",
              "    </div>\n",
              "  </div>\n",
              "  "
            ]
          },
          "metadata": {},
          "execution_count": 8
        }
      ]
    },
    {
      "cell_type": "code",
      "execution_count": 45,
      "metadata": {
        "id": "GXRTWH-_mTgK"
      },
      "outputs": [],
      "source": [
        "# Implement the Naive method function\n",
        "def naive_predictions(training_df, test_df):\n",
        "    \"\"\"\n",
        "    Implement the Naive method and return dataframe with test data and corresponding predictions\n",
        "    \"\"\"\n",
        "    if 'series_id' not in training_df.columns:\n",
        "        training_df['series_id'] = training_df['store_id'] + '_' + training_df['cat_id']\n",
        "    series_list = training_df['series_id'].unique()\n",
        "\n",
        "    naive_test_list = []\n",
        "\n",
        "    for series in series_list:\n",
        "      training_df_series = training_df.loc[training_df.series_id==series]\n",
        "      naive_pred_df = training_df_series.loc[training_df_series.date == training_df_series.date.max(), ['store_id','cat_id', 'sales']]\n",
        "      naive_pred_df.rename(columns={'sales':'naive_pred'}, inplace=True)\n",
        "      naive_test_df = test_df.merge(naive_pred_df, on=['store_id','cat_id'], how='left').reset_index(drop = True)\n",
        "      naive_test_list.append(naive_test_df)\n",
        "    \n",
        "    naive_test_df = pd.concat(naive_test_list)\n",
        "    return naive_test_df.reset_index(drop = True)"
      ]
    },
    {
      "cell_type": "code",
      "execution_count": 23,
      "metadata": {
        "id": "3H65LyQImTgN"
      },
      "outputs": [],
      "source": [
        "# Naive method for first cv split\n",
        "training_df, validation_df, test_df = get_cv_split(df=sales_processed_df, split_num=1, prediction_length=28, validation=True)"
      ]
    },
    {
      "cell_type": "code",
      "source": [
        "naive_test_df = naive_predictions(training_df = training_df, test_df = test_df)\n",
        "#test_df.loc[test_df['series_id'] == 'TX_1_FOODS',:]"
      ],
      "metadata": {
        "id": "wqnbnMUCTH87"
      },
      "execution_count": 46,
      "outputs": []
    },
    {
      "cell_type": "code",
      "source": [
        "#training_df.loc[training_df['series_id'] == 'TX_1_FOODS', 'date'].max() # ('2016-01-31 00:00:00')\n",
        "training_df.loc[(training_df['series_id'] == 'TX_1_FOODS') & (training_df['date'] == '2016-01-31 00:00:00'),:]"
      ],
      "metadata": {
        "colab": {
          "base_uri": "https://localhost:8080/",
          "height": 81
        },
        "id": "ylUFreGKUMO8",
        "outputId": "28129bbe-a2f9-4282-95fb-40c27bfb988e"
      },
      "execution_count": 21,
      "outputs": [
        {
          "output_type": "execute_result",
          "data": {
            "text/plain": [
              "           date store_id cat_id    sales   series_id\n",
              "1828 2016-01-31     TX_1  FOODS  6202.96  TX_1_FOODS"
            ],
            "text/html": [
              "\n",
              "  <div id=\"df-fdad7b8f-fd9d-4f72-ad62-1b06e9b5d457\">\n",
              "    <div class=\"colab-df-container\">\n",
              "      <div>\n",
              "<style scoped>\n",
              "    .dataframe tbody tr th:only-of-type {\n",
              "        vertical-align: middle;\n",
              "    }\n",
              "\n",
              "    .dataframe tbody tr th {\n",
              "        vertical-align: top;\n",
              "    }\n",
              "\n",
              "    .dataframe thead th {\n",
              "        text-align: right;\n",
              "    }\n",
              "</style>\n",
              "<table border=\"1\" class=\"dataframe\">\n",
              "  <thead>\n",
              "    <tr style=\"text-align: right;\">\n",
              "      <th></th>\n",
              "      <th>date</th>\n",
              "      <th>store_id</th>\n",
              "      <th>cat_id</th>\n",
              "      <th>sales</th>\n",
              "      <th>series_id</th>\n",
              "    </tr>\n",
              "  </thead>\n",
              "  <tbody>\n",
              "    <tr>\n",
              "      <th>1828</th>\n",
              "      <td>2016-01-31</td>\n",
              "      <td>TX_1</td>\n",
              "      <td>FOODS</td>\n",
              "      <td>6202.96</td>\n",
              "      <td>TX_1_FOODS</td>\n",
              "    </tr>\n",
              "  </tbody>\n",
              "</table>\n",
              "</div>\n",
              "      <button class=\"colab-df-convert\" onclick=\"convertToInteractive('df-fdad7b8f-fd9d-4f72-ad62-1b06e9b5d457')\"\n",
              "              title=\"Convert this dataframe to an interactive table.\"\n",
              "              style=\"display:none;\">\n",
              "        \n",
              "  <svg xmlns=\"http://www.w3.org/2000/svg\" height=\"24px\"viewBox=\"0 0 24 24\"\n",
              "       width=\"24px\">\n",
              "    <path d=\"M0 0h24v24H0V0z\" fill=\"none\"/>\n",
              "    <path d=\"M18.56 5.44l.94 2.06.94-2.06 2.06-.94-2.06-.94-.94-2.06-.94 2.06-2.06.94zm-11 1L8.5 8.5l.94-2.06 2.06-.94-2.06-.94L8.5 2.5l-.94 2.06-2.06.94zm10 10l.94 2.06.94-2.06 2.06-.94-2.06-.94-.94-2.06-.94 2.06-2.06.94z\"/><path d=\"M17.41 7.96l-1.37-1.37c-.4-.4-.92-.59-1.43-.59-.52 0-1.04.2-1.43.59L10.3 9.45l-7.72 7.72c-.78.78-.78 2.05 0 2.83L4 21.41c.39.39.9.59 1.41.59.51 0 1.02-.2 1.41-.59l7.78-7.78 2.81-2.81c.8-.78.8-2.07 0-2.86zM5.41 20L4 18.59l7.72-7.72 1.47 1.35L5.41 20z\"/>\n",
              "  </svg>\n",
              "      </button>\n",
              "      \n",
              "  <style>\n",
              "    .colab-df-container {\n",
              "      display:flex;\n",
              "      flex-wrap:wrap;\n",
              "      gap: 12px;\n",
              "    }\n",
              "\n",
              "    .colab-df-convert {\n",
              "      background-color: #E8F0FE;\n",
              "      border: none;\n",
              "      border-radius: 50%;\n",
              "      cursor: pointer;\n",
              "      display: none;\n",
              "      fill: #1967D2;\n",
              "      height: 32px;\n",
              "      padding: 0 0 0 0;\n",
              "      width: 32px;\n",
              "    }\n",
              "\n",
              "    .colab-df-convert:hover {\n",
              "      background-color: #E2EBFA;\n",
              "      box-shadow: 0px 1px 2px rgba(60, 64, 67, 0.3), 0px 1px 3px 1px rgba(60, 64, 67, 0.15);\n",
              "      fill: #174EA6;\n",
              "    }\n",
              "\n",
              "    [theme=dark] .colab-df-convert {\n",
              "      background-color: #3B4455;\n",
              "      fill: #D2E3FC;\n",
              "    }\n",
              "\n",
              "    [theme=dark] .colab-df-convert:hover {\n",
              "      background-color: #434B5C;\n",
              "      box-shadow: 0px 1px 3px 1px rgba(0, 0, 0, 0.15);\n",
              "      filter: drop-shadow(0px 1px 2px rgba(0, 0, 0, 0.3));\n",
              "      fill: #FFFFFF;\n",
              "    }\n",
              "  </style>\n",
              "\n",
              "      <script>\n",
              "        const buttonEl =\n",
              "          document.querySelector('#df-fdad7b8f-fd9d-4f72-ad62-1b06e9b5d457 button.colab-df-convert');\n",
              "        buttonEl.style.display =\n",
              "          google.colab.kernel.accessAllowed ? 'block' : 'none';\n",
              "\n",
              "        async function convertToInteractive(key) {\n",
              "          const element = document.querySelector('#df-fdad7b8f-fd9d-4f72-ad62-1b06e9b5d457');\n",
              "          const dataTable =\n",
              "            await google.colab.kernel.invokeFunction('convertToInteractive',\n",
              "                                                     [key], {});\n",
              "          if (!dataTable) return;\n",
              "\n",
              "          const docLinkHtml = 'Like what you see? Visit the ' +\n",
              "            '<a target=\"_blank\" href=https://colab.research.google.com/notebooks/data_table.ipynb>data table notebook</a>'\n",
              "            + ' to learn more about interactive tables.';\n",
              "          element.innerHTML = '';\n",
              "          dataTable['output_type'] = 'display_data';\n",
              "          await google.colab.output.renderOutput(dataTable, element);\n",
              "          const docLink = document.createElement('div');\n",
              "          docLink.innerHTML = docLinkHtml;\n",
              "          element.appendChild(docLink);\n",
              "        }\n",
              "      </script>\n",
              "    </div>\n",
              "  </div>\n",
              "  "
            ]
          },
          "metadata": {},
          "execution_count": 21
        }
      ]
    },
    {
      "cell_type": "code",
      "source": [
        "#training_df.date.max() # Timestamp('2016-01-31 00:00:00')\n",
        "naive_test_df.groupby(['store_id', 'cat_id'])['sales'].count()"
      ],
      "metadata": {
        "colab": {
          "base_uri": "https://localhost:8080/"
        },
        "id": "9tgEUS7oJwzo",
        "outputId": "30bc70c3-1e19-42ce-c188-5fc707adc0e1"
      },
      "execution_count": 39,
      "outputs": [
        {
          "output_type": "execute_result",
          "data": {
            "text/plain": [
              "store_id  cat_id   \n",
              "CA_1      FOODS        840\n",
              "          HOBBIES      840\n",
              "          HOUSEHOLD    840\n",
              "CA_2      FOODS        840\n",
              "          HOBBIES      840\n",
              "          HOUSEHOLD    840\n",
              "CA_3      FOODS        840\n",
              "          HOBBIES      840\n",
              "          HOUSEHOLD    840\n",
              "CA_4      FOODS        840\n",
              "          HOBBIES      840\n",
              "          HOUSEHOLD    840\n",
              "TX_1      FOODS        840\n",
              "          HOBBIES      840\n",
              "          HOUSEHOLD    840\n",
              "TX_2      FOODS        840\n",
              "          HOBBIES      840\n",
              "          HOUSEHOLD    840\n",
              "TX_3      FOODS        840\n",
              "          HOBBIES      840\n",
              "          HOUSEHOLD    840\n",
              "WI_1      FOODS        840\n",
              "          HOBBIES      840\n",
              "          HOUSEHOLD    840\n",
              "WI_2      FOODS        840\n",
              "          HOBBIES      840\n",
              "          HOUSEHOLD    840\n",
              "WI_3      FOODS        840\n",
              "          HOBBIES      840\n",
              "          HOUSEHOLD    840\n",
              "Name: sales, dtype: int64"
            ]
          },
          "metadata": {},
          "execution_count": 39
        }
      ]
    },
    {
      "cell_type": "markdown",
      "metadata": {
        "id": "aIqPpMldmTgP"
      },
      "source": [
        "Let's plot our Naive predictions against real data for visualization."
      ]
    },
    {
      "cell_type": "markdown",
      "metadata": {
        "id": "N1bLUEUxmTgQ"
      },
      "source": [
        "<ins>Instructions</ins>:<br>\n",
        "- For a given time series, plot the Naive predictions against actual sales"
      ]
    },
    {
      "cell_type": "markdown",
      "metadata": {
        "id": "BkTRGnsbDv0P"
      },
      "source": [
        "<ins>Hints</ins> (click when needed):<br>\n",
        "- [Use Seaborn `lineplot` to plot line plots](https://seaborn.pydata.org/generated/seaborn.lineplot.html)"
      ]
    },
    {
      "cell_type": "code",
      "source": [
        "naive_test_df.columns"
      ],
      "metadata": {
        "colab": {
          "base_uri": "https://localhost:8080/"
        },
        "id": "yYxQ0RSwa1Pa",
        "outputId": "eccdf05b-484e-4c27-d710-5237e2105cce"
      },
      "execution_count": 59,
      "outputs": [
        {
          "output_type": "execute_result",
          "data": {
            "text/plain": [
              "Index(['date', 'store_id', 'cat_id', 'sales', 'series_id', 'naive_pred'], dtype='object')"
            ]
          },
          "metadata": {},
          "execution_count": 59
        }
      ]
    },
    {
      "cell_type": "code",
      "source": [
        "import seaborn as sns"
      ],
      "metadata": {
        "id": "iRSSjMHfLKMK"
      },
      "execution_count": 17,
      "outputs": []
    },
    {
      "cell_type": "code",
      "execution_count": 68,
      "metadata": {
        "id": "iM0imdOMmTgS"
      },
      "outputs": [],
      "source": [
        "# function for plotting predictions against actual sales given series_id\n",
        "def plot_pred(prediction_test_df, series_id, yhat):\n",
        "    \"\"\"\n",
        "    Plot the predictions against actual sales for a specified time series\n",
        "    \"\"\"\n",
        "    print(yhat)\n",
        "    fig, ax = plt.subplots(figsize = (16,8))\n",
        "    sns.lineplot(data=prediction_test_df.loc[prediction_test_df['series_id'] ==  series_id,:], x='date', y='sales')\n",
        "    sns.lineplot(data=prediction_test_df.loc[prediction_test_df['series_id'] ==  series_id,:], x='date', y=yhat)"
      ]
    },
    {
      "cell_type": "code",
      "source": [
        "naive_test_df.tail(10)"
      ],
      "metadata": {
        "colab": {
          "base_uri": "https://localhost:8080/",
          "height": 363
        },
        "id": "rf4ZrNWrQzbz",
        "outputId": "39147504-0668-4d5d-df8d-8afba1be2b1a"
      },
      "execution_count": 85,
      "outputs": [
        {
          "output_type": "execute_result",
          "data": {
            "text/plain": [
              "            date store_id     cat_id    sales       series_id  naive_pred\n",
              "25190 2016-03-18     WI_3  HOUSEHOLD  2660.75  WI_3_HOUSEHOLD     3923.66\n",
              "25191 2016-03-19     WI_3  HOUSEHOLD  3484.43  WI_3_HOUSEHOLD     3923.66\n",
              "25192 2016-03-20     WI_3  HOUSEHOLD  3333.94  WI_3_HOUSEHOLD     3923.66\n",
              "25193 2016-03-21     WI_3  HOUSEHOLD  2648.48  WI_3_HOUSEHOLD     3923.66\n",
              "25194 2016-03-22     WI_3  HOUSEHOLD  2245.26  WI_3_HOUSEHOLD     3923.66\n",
              "25195 2016-03-23     WI_3  HOUSEHOLD  1808.48  WI_3_HOUSEHOLD     3923.66\n",
              "25196 2016-03-24     WI_3  HOUSEHOLD  1854.75  WI_3_HOUSEHOLD     3923.66\n",
              "25197 2016-03-25     WI_3  HOUSEHOLD  3273.26  WI_3_HOUSEHOLD     3923.66\n",
              "25198 2016-03-26     WI_3  HOUSEHOLD  3684.77  WI_3_HOUSEHOLD     3923.66\n",
              "25199 2016-03-27     WI_3  HOUSEHOLD  3278.37  WI_3_HOUSEHOLD     3923.66"
            ],
            "text/html": [
              "\n",
              "  <div id=\"df-62fcbb8f-226b-4bcc-a427-a631acba49cb\">\n",
              "    <div class=\"colab-df-container\">\n",
              "      <div>\n",
              "<style scoped>\n",
              "    .dataframe tbody tr th:only-of-type {\n",
              "        vertical-align: middle;\n",
              "    }\n",
              "\n",
              "    .dataframe tbody tr th {\n",
              "        vertical-align: top;\n",
              "    }\n",
              "\n",
              "    .dataframe thead th {\n",
              "        text-align: right;\n",
              "    }\n",
              "</style>\n",
              "<table border=\"1\" class=\"dataframe\">\n",
              "  <thead>\n",
              "    <tr style=\"text-align: right;\">\n",
              "      <th></th>\n",
              "      <th>date</th>\n",
              "      <th>store_id</th>\n",
              "      <th>cat_id</th>\n",
              "      <th>sales</th>\n",
              "      <th>series_id</th>\n",
              "      <th>naive_pred</th>\n",
              "    </tr>\n",
              "  </thead>\n",
              "  <tbody>\n",
              "    <tr>\n",
              "      <th>25190</th>\n",
              "      <td>2016-03-18</td>\n",
              "      <td>WI_3</td>\n",
              "      <td>HOUSEHOLD</td>\n",
              "      <td>2660.75</td>\n",
              "      <td>WI_3_HOUSEHOLD</td>\n",
              "      <td>3923.66</td>\n",
              "    </tr>\n",
              "    <tr>\n",
              "      <th>25191</th>\n",
              "      <td>2016-03-19</td>\n",
              "      <td>WI_3</td>\n",
              "      <td>HOUSEHOLD</td>\n",
              "      <td>3484.43</td>\n",
              "      <td>WI_3_HOUSEHOLD</td>\n",
              "      <td>3923.66</td>\n",
              "    </tr>\n",
              "    <tr>\n",
              "      <th>25192</th>\n",
              "      <td>2016-03-20</td>\n",
              "      <td>WI_3</td>\n",
              "      <td>HOUSEHOLD</td>\n",
              "      <td>3333.94</td>\n",
              "      <td>WI_3_HOUSEHOLD</td>\n",
              "      <td>3923.66</td>\n",
              "    </tr>\n",
              "    <tr>\n",
              "      <th>25193</th>\n",
              "      <td>2016-03-21</td>\n",
              "      <td>WI_3</td>\n",
              "      <td>HOUSEHOLD</td>\n",
              "      <td>2648.48</td>\n",
              "      <td>WI_3_HOUSEHOLD</td>\n",
              "      <td>3923.66</td>\n",
              "    </tr>\n",
              "    <tr>\n",
              "      <th>25194</th>\n",
              "      <td>2016-03-22</td>\n",
              "      <td>WI_3</td>\n",
              "      <td>HOUSEHOLD</td>\n",
              "      <td>2245.26</td>\n",
              "      <td>WI_3_HOUSEHOLD</td>\n",
              "      <td>3923.66</td>\n",
              "    </tr>\n",
              "    <tr>\n",
              "      <th>25195</th>\n",
              "      <td>2016-03-23</td>\n",
              "      <td>WI_3</td>\n",
              "      <td>HOUSEHOLD</td>\n",
              "      <td>1808.48</td>\n",
              "      <td>WI_3_HOUSEHOLD</td>\n",
              "      <td>3923.66</td>\n",
              "    </tr>\n",
              "    <tr>\n",
              "      <th>25196</th>\n",
              "      <td>2016-03-24</td>\n",
              "      <td>WI_3</td>\n",
              "      <td>HOUSEHOLD</td>\n",
              "      <td>1854.75</td>\n",
              "      <td>WI_3_HOUSEHOLD</td>\n",
              "      <td>3923.66</td>\n",
              "    </tr>\n",
              "    <tr>\n",
              "      <th>25197</th>\n",
              "      <td>2016-03-25</td>\n",
              "      <td>WI_3</td>\n",
              "      <td>HOUSEHOLD</td>\n",
              "      <td>3273.26</td>\n",
              "      <td>WI_3_HOUSEHOLD</td>\n",
              "      <td>3923.66</td>\n",
              "    </tr>\n",
              "    <tr>\n",
              "      <th>25198</th>\n",
              "      <td>2016-03-26</td>\n",
              "      <td>WI_3</td>\n",
              "      <td>HOUSEHOLD</td>\n",
              "      <td>3684.77</td>\n",
              "      <td>WI_3_HOUSEHOLD</td>\n",
              "      <td>3923.66</td>\n",
              "    </tr>\n",
              "    <tr>\n",
              "      <th>25199</th>\n",
              "      <td>2016-03-27</td>\n",
              "      <td>WI_3</td>\n",
              "      <td>HOUSEHOLD</td>\n",
              "      <td>3278.37</td>\n",
              "      <td>WI_3_HOUSEHOLD</td>\n",
              "      <td>3923.66</td>\n",
              "    </tr>\n",
              "  </tbody>\n",
              "</table>\n",
              "</div>\n",
              "      <button class=\"colab-df-convert\" onclick=\"convertToInteractive('df-62fcbb8f-226b-4bcc-a427-a631acba49cb')\"\n",
              "              title=\"Convert this dataframe to an interactive table.\"\n",
              "              style=\"display:none;\">\n",
              "        \n",
              "  <svg xmlns=\"http://www.w3.org/2000/svg\" height=\"24px\"viewBox=\"0 0 24 24\"\n",
              "       width=\"24px\">\n",
              "    <path d=\"M0 0h24v24H0V0z\" fill=\"none\"/>\n",
              "    <path d=\"M18.56 5.44l.94 2.06.94-2.06 2.06-.94-2.06-.94-.94-2.06-.94 2.06-2.06.94zm-11 1L8.5 8.5l.94-2.06 2.06-.94-2.06-.94L8.5 2.5l-.94 2.06-2.06.94zm10 10l.94 2.06.94-2.06 2.06-.94-2.06-.94-.94-2.06-.94 2.06-2.06.94z\"/><path d=\"M17.41 7.96l-1.37-1.37c-.4-.4-.92-.59-1.43-.59-.52 0-1.04.2-1.43.59L10.3 9.45l-7.72 7.72c-.78.78-.78 2.05 0 2.83L4 21.41c.39.39.9.59 1.41.59.51 0 1.02-.2 1.41-.59l7.78-7.78 2.81-2.81c.8-.78.8-2.07 0-2.86zM5.41 20L4 18.59l7.72-7.72 1.47 1.35L5.41 20z\"/>\n",
              "  </svg>\n",
              "      </button>\n",
              "      \n",
              "  <style>\n",
              "    .colab-df-container {\n",
              "      display:flex;\n",
              "      flex-wrap:wrap;\n",
              "      gap: 12px;\n",
              "    }\n",
              "\n",
              "    .colab-df-convert {\n",
              "      background-color: #E8F0FE;\n",
              "      border: none;\n",
              "      border-radius: 50%;\n",
              "      cursor: pointer;\n",
              "      display: none;\n",
              "      fill: #1967D2;\n",
              "      height: 32px;\n",
              "      padding: 0 0 0 0;\n",
              "      width: 32px;\n",
              "    }\n",
              "\n",
              "    .colab-df-convert:hover {\n",
              "      background-color: #E2EBFA;\n",
              "      box-shadow: 0px 1px 2px rgba(60, 64, 67, 0.3), 0px 1px 3px 1px rgba(60, 64, 67, 0.15);\n",
              "      fill: #174EA6;\n",
              "    }\n",
              "\n",
              "    [theme=dark] .colab-df-convert {\n",
              "      background-color: #3B4455;\n",
              "      fill: #D2E3FC;\n",
              "    }\n",
              "\n",
              "    [theme=dark] .colab-df-convert:hover {\n",
              "      background-color: #434B5C;\n",
              "      box-shadow: 0px 1px 3px 1px rgba(0, 0, 0, 0.15);\n",
              "      filter: drop-shadow(0px 1px 2px rgba(0, 0, 0, 0.3));\n",
              "      fill: #FFFFFF;\n",
              "    }\n",
              "  </style>\n",
              "\n",
              "      <script>\n",
              "        const buttonEl =\n",
              "          document.querySelector('#df-62fcbb8f-226b-4bcc-a427-a631acba49cb button.colab-df-convert');\n",
              "        buttonEl.style.display =\n",
              "          google.colab.kernel.accessAllowed ? 'block' : 'none';\n",
              "\n",
              "        async function convertToInteractive(key) {\n",
              "          const element = document.querySelector('#df-62fcbb8f-226b-4bcc-a427-a631acba49cb');\n",
              "          const dataTable =\n",
              "            await google.colab.kernel.invokeFunction('convertToInteractive',\n",
              "                                                     [key], {});\n",
              "          if (!dataTable) return;\n",
              "\n",
              "          const docLinkHtml = 'Like what you see? Visit the ' +\n",
              "            '<a target=\"_blank\" href=https://colab.research.google.com/notebooks/data_table.ipynb>data table notebook</a>'\n",
              "            + ' to learn more about interactive tables.';\n",
              "          element.innerHTML = '';\n",
              "          dataTable['output_type'] = 'display_data';\n",
              "          await google.colab.output.renderOutput(dataTable, element);\n",
              "          const docLink = document.createElement('div');\n",
              "          docLink.innerHTML = docLinkHtml;\n",
              "          element.appendChild(docLink);\n",
              "        }\n",
              "      </script>\n",
              "    </div>\n",
              "  </div>\n",
              "  "
            ]
          },
          "metadata": {},
          "execution_count": 85
        }
      ]
    },
    {
      "cell_type": "code",
      "execution_count": 69,
      "metadata": {
        "colab": {
          "base_uri": "https://localhost:8080/",
          "height": 515
        },
        "id": "xurQfd6bDv0S",
        "outputId": "9abf2d75-d9be-47a5-ba7d-3273dc82ba90"
      },
      "outputs": [
        {
          "output_type": "stream",
          "name": "stdout",
          "text": [
            "naive_pred\n"
          ]
        },
        {
          "output_type": "display_data",
          "data": {
            "text/plain": [
              "<Figure size 1152x576 with 1 Axes>"
            ],
            "image/png": "[encoded data removed]"
          },
          "metadata": {
            "needs_background": "light"
          }
        }
      ],
      "source": [
        "# Plot the predictions against actual sales for a specified time series\n",
        "plot_pred(naive_test_df, 'WI_3_HOUSEHOLD', 'naive_pred')"
      ]
    },
    {
      "cell_type": "markdown",
      "metadata": {
        "id": "AVgK1EurmTgU"
      },
      "source": [
        "From our plot, we can see that the Naive predictions are uninteresting; just a horizontal straight line of constant value. Well, it's naive after all.\n",
        "\n",
        "Now, let's implement the sNaive method. Remember, the seasonal period for our case is 7 days."
      ]
    },
    {
      "cell_type": "markdown",
      "metadata": {
        "id": "4uutxx7EmTgZ"
      },
      "source": [
        "<ins>Instructions</ins>:<br>\n",
        "- Implement the sNaive method using the last 7 known observations of each time series. Develop a function that will take in the training and test data and return a dataframe containing the test data and corresponding predictions."
      ]
    },
    {
      "cell_type": "markdown",
      "metadata": {
        "id": "cT0eyL1wDv0W"
      },
      "source": [
        "<ins>Hints</ins> (click when needed):<br>\n",
        "- [sNaive notes (read on what to do when prediction_length > season_length)](https://ts.gluon.ai/api/gluonts/gluonts.model.seasonal_naive.html)\n",
        "> \"\"\"\n",
        "\n",
        "> If prediction_length > season_length, then the season is repeated multiple times\n",
        "\n",
        "> \"\"\""
      ]
    },
    {
      "cell_type": "code",
      "execution_count": 66,
      "metadata": {
        "id": "4cP3ZQ7_mTgd"
      },
      "outputs": [],
      "source": [
        "# Implement the sNaive method in a function\n",
        "def snaive_predictions(training_df, test_df):\n",
        "    \"\"\"\n",
        "    Implement the sNaive method and return dataframe with test data and corresponding predictions\n",
        "    \"\"\"\n",
        "    if 'series_id' not in training_df.columns:\n",
        "      training_df['series_id'] = training_df['store_id'] + '_' + training_df['cat_id']\n",
        "    series_list = training_df['series_id'].unique()\n",
        "\n",
        "    snaive_test_list = []\n",
        "\n",
        "    for series in series_list:\n",
        "      training_df_series = training_df.loc[training_df.series_id==series]\n",
        "      training_df_series['dayofweek'] = training_df_series['date'].dt.weekday\n",
        "      training_df_series.sort_values(by='date', ascending=False, inplace=True)\n",
        "      snaive_pred_df = training_df_series[:7][['dayofweek', 'sales']]\n",
        "      snaive_pred_df.rename(columns={'sales':'snaive_pred'}, inplace=True)\n",
        "      test_df['dayofweek'] = test_df['date'].dt.weekday\n",
        "      snaive_test_df = test_df.merge(snaive_pred_df, on=['dayofweek'], how='left')\n",
        "      snaive_test_list.append(snaive_test_df)\n",
        "\n",
        "    snaive_test_df = pd.concat(snaive_test_list)\n",
        "\n",
        "    return snaive_test_df.reset_index(drop = True)"
      ]
    },
    {
      "cell_type": "code",
      "execution_count": 67,
      "metadata": {
        "id": "g0MGVdl1mTgg"
      },
      "outputs": [],
      "source": [
        "# sNaive predictions for first cv split\n",
        "#training_df, validation_df, test_df = get_cv_split(df=sales_processed_df, split_num=1, prediction_length=28, validation=True)\n",
        "snaive_test_df = snaive_predictions(training_df = training_df, test_df = test_df)"
      ]
    },
    {
      "cell_type": "code",
      "source": [
        "training_df.head(10)"
      ],
      "metadata": {
        "colab": {
          "base_uri": "https://localhost:8080/",
          "height": 363
        },
        "id": "oXlTyFq5N2Rr",
        "outputId": "845cb7d6-15b9-4c74-f058-75b1a0d52d91"
      },
      "execution_count": 39,
      "outputs": [
        {
          "output_type": "execute_result",
          "data": {
            "text/plain": [
              "            date store_id     cat_id     sales       series_id  dayofweek\n",
              "54774 2016-01-31     WI_3  HOUSEHOLD   3923.66  WI_3_HOUSEHOLD          6\n",
              "42308 2016-01-31     WI_1    HOBBIES   1955.78    WI_1_HOBBIES          6\n",
              "43614 2016-01-31     WI_1  HOUSEHOLD   3695.58  WI_1_HOUSEHOLD          6\n",
              "1828  2016-01-31     TX_1      FOODS   6202.96      TX_1_FOODS          6\n",
              "21238 2016-01-31     CA_1    HOBBIES   2976.65    CA_1_HOBBIES          6\n",
              "35186 2016-01-31     CA_4      FOODS   5672.60      CA_4_FOODS          6\n",
              "45069 2016-01-31     WI_2      FOODS   8759.93      WI_2_FOODS          6\n",
              "19297 2016-01-31     CA_1      FOODS  10637.42      CA_1_FOODS          6\n",
              "17356 2016-01-31     TX_3  HOUSEHOLD   4416.55  TX_3_HOUSEHOLD          6\n",
              "47010 2016-01-31     WI_2    HOBBIES   1206.71    WI_2_HOBBIES          6"
            ],
            "text/html": [
              "\n",
              "  <div id=\"df-f208ae9e-e613-4381-87b8-8714f7c3ba4b\">\n",
              "    <div class=\"colab-df-container\">\n",
              "      <div>\n",
              "<style scoped>\n",
              "    .dataframe tbody tr th:only-of-type {\n",
              "        vertical-align: middle;\n",
              "    }\n",
              "\n",
              "    .dataframe tbody tr th {\n",
              "        vertical-align: top;\n",
              "    }\n",
              "\n",
              "    .dataframe thead th {\n",
              "        text-align: right;\n",
              "    }\n",
              "</style>\n",
              "<table border=\"1\" class=\"dataframe\">\n",
              "  <thead>\n",
              "    <tr style=\"text-align: right;\">\n",
              "      <th></th>\n",
              "      <th>date</th>\n",
              "      <th>store_id</th>\n",
              "      <th>cat_id</th>\n",
              "      <th>sales</th>\n",
              "      <th>series_id</th>\n",
              "      <th>dayofweek</th>\n",
              "    </tr>\n",
              "  </thead>\n",
              "  <tbody>\n",
              "    <tr>\n",
              "      <th>54774</th>\n",
              "      <td>2016-01-31</td>\n",
              "      <td>WI_3</td>\n",
              "      <td>HOUSEHOLD</td>\n",
              "      <td>3923.66</td>\n",
              "      <td>WI_3_HOUSEHOLD</td>\n",
              "      <td>6</td>\n",
              "    </tr>\n",
              "    <tr>\n",
              "      <th>42308</th>\n",
              "      <td>2016-01-31</td>\n",
              "      <td>WI_1</td>\n",
              "      <td>HOBBIES</td>\n",
              "      <td>1955.78</td>\n",
              "      <td>WI_1_HOBBIES</td>\n",
              "      <td>6</td>\n",
              "    </tr>\n",
              "    <tr>\n",
              "      <th>43614</th>\n",
              "      <td>2016-01-31</td>\n",
              "      <td>WI_1</td>\n",
              "      <td>HOUSEHOLD</td>\n",
              "      <td>3695.58</td>\n",
              "      <td>WI_1_HOUSEHOLD</td>\n",
              "      <td>6</td>\n",
              "    </tr>\n",
              "    <tr>\n",
              "      <th>1828</th>\n",
              "      <td>2016-01-31</td>\n",
              "      <td>TX_1</td>\n",
              "      <td>FOODS</td>\n",
              "      <td>6202.96</td>\n",
              "      <td>TX_1_FOODS</td>\n",
              "      <td>6</td>\n",
              "    </tr>\n",
              "    <tr>\n",
              "      <th>21238</th>\n",
              "      <td>2016-01-31</td>\n",
              "      <td>CA_1</td>\n",
              "      <td>HOBBIES</td>\n",
              "      <td>2976.65</td>\n",
              "      <td>CA_1_HOBBIES</td>\n",
              "      <td>6</td>\n",
              "    </tr>\n",
              "    <tr>\n",
              "      <th>35186</th>\n",
              "      <td>2016-01-31</td>\n",
              "      <td>CA_4</td>\n",
              "      <td>FOODS</td>\n",
              "      <td>5672.60</td>\n",
              "      <td>CA_4_FOODS</td>\n",
              "      <td>6</td>\n",
              "    </tr>\n",
              "    <tr>\n",
              "      <th>45069</th>\n",
              "      <td>2016-01-31</td>\n",
              "      <td>WI_2</td>\n",
              "      <td>FOODS</td>\n",
              "      <td>8759.93</td>\n",
              "      <td>WI_2_FOODS</td>\n",
              "      <td>6</td>\n",
              "    </tr>\n",
              "    <tr>\n",
              "      <th>19297</th>\n",
              "      <td>2016-01-31</td>\n",
              "      <td>CA_1</td>\n",
              "      <td>FOODS</td>\n",
              "      <td>10637.42</td>\n",
              "      <td>CA_1_FOODS</td>\n",
              "      <td>6</td>\n",
              "    </tr>\n",
              "    <tr>\n",
              "      <th>17356</th>\n",
              "      <td>2016-01-31</td>\n",
              "      <td>TX_3</td>\n",
              "      <td>HOUSEHOLD</td>\n",
              "      <td>4416.55</td>\n",
              "      <td>TX_3_HOUSEHOLD</td>\n",
              "      <td>6</td>\n",
              "    </tr>\n",
              "    <tr>\n",
              "      <th>47010</th>\n",
              "      <td>2016-01-31</td>\n",
              "      <td>WI_2</td>\n",
              "      <td>HOBBIES</td>\n",
              "      <td>1206.71</td>\n",
              "      <td>WI_2_HOBBIES</td>\n",
              "      <td>6</td>\n",
              "    </tr>\n",
              "  </tbody>\n",
              "</table>\n",
              "</div>\n",
              "      <button class=\"colab-df-convert\" onclick=\"convertToInteractive('df-f208ae9e-e613-4381-87b8-8714f7c3ba4b')\"\n",
              "              title=\"Convert this dataframe to an interactive table.\"\n",
              "              style=\"display:none;\">\n",
              "        \n",
              "  <svg xmlns=\"http://www.w3.org/2000/svg\" height=\"24px\"viewBox=\"0 0 24 24\"\n",
              "       width=\"24px\">\n",
              "    <path d=\"M0 0h24v24H0V0z\" fill=\"none\"/>\n",
              "    <path d=\"M18.56 5.44l.94 2.06.94-2.06 2.06-.94-2.06-.94-.94-2.06-.94 2.06-2.06.94zm-11 1L8.5 8.5l.94-2.06 2.06-.94-2.06-.94L8.5 2.5l-.94 2.06-2.06.94zm10 10l.94 2.06.94-2.06 2.06-.94-2.06-.94-.94-2.06-.94 2.06-2.06.94z\"/><path d=\"M17.41 7.96l-1.37-1.37c-.4-.4-.92-.59-1.43-.59-.52 0-1.04.2-1.43.59L10.3 9.45l-7.72 7.72c-.78.78-.78 2.05 0 2.83L4 21.41c.39.39.9.59 1.41.59.51 0 1.02-.2 1.41-.59l7.78-7.78 2.81-2.81c.8-.78.8-2.07 0-2.86zM5.41 20L4 18.59l7.72-7.72 1.47 1.35L5.41 20z\"/>\n",
              "  </svg>\n",
              "      </button>\n",
              "      \n",
              "  <style>\n",
              "    .colab-df-container {\n",
              "      display:flex;\n",
              "      flex-wrap:wrap;\n",
              "      gap: 12px;\n",
              "    }\n",
              "\n",
              "    .colab-df-convert {\n",
              "      background-color: #E8F0FE;\n",
              "      border: none;\n",
              "      border-radius: 50%;\n",
              "      cursor: pointer;\n",
              "      display: none;\n",
              "      fill: #1967D2;\n",
              "      height: 32px;\n",
              "      padding: 0 0 0 0;\n",
              "      width: 32px;\n",
              "    }\n",
              "\n",
              "    .colab-df-convert:hover {\n",
              "      background-color: #E2EBFA;\n",
              "      box-shadow: 0px 1px 2px rgba(60, 64, 67, 0.3), 0px 1px 3px 1px rgba(60, 64, 67, 0.15);\n",
              "      fill: #174EA6;\n",
              "    }\n",
              "\n",
              "    [theme=dark] .colab-df-convert {\n",
              "      background-color: #3B4455;\n",
              "      fill: #D2E3FC;\n",
              "    }\n",
              "\n",
              "    [theme=dark] .colab-df-convert:hover {\n",
              "      background-color: #434B5C;\n",
              "      box-shadow: 0px 1px 3px 1px rgba(0, 0, 0, 0.15);\n",
              "      filter: drop-shadow(0px 1px 2px rgba(0, 0, 0, 0.3));\n",
              "      fill: #FFFFFF;\n",
              "    }\n",
              "  </style>\n",
              "\n",
              "      <script>\n",
              "        const buttonEl =\n",
              "          document.querySelector('#df-f208ae9e-e613-4381-87b8-8714f7c3ba4b button.colab-df-convert');\n",
              "        buttonEl.style.display =\n",
              "          google.colab.kernel.accessAllowed ? 'block' : 'none';\n",
              "\n",
              "        async function convertToInteractive(key) {\n",
              "          const element = document.querySelector('#df-f208ae9e-e613-4381-87b8-8714f7c3ba4b');\n",
              "          const dataTable =\n",
              "            await google.colab.kernel.invokeFunction('convertToInteractive',\n",
              "                                                     [key], {});\n",
              "          if (!dataTable) return;\n",
              "\n",
              "          const docLinkHtml = 'Like what you see? Visit the ' +\n",
              "            '<a target=\"_blank\" href=https://colab.research.google.com/notebooks/data_table.ipynb>data table notebook</a>'\n",
              "            + ' to learn more about interactive tables.';\n",
              "          element.innerHTML = '';\n",
              "          dataTable['output_type'] = 'display_data';\n",
              "          await google.colab.output.renderOutput(dataTable, element);\n",
              "          const docLink = document.createElement('div');\n",
              "          docLink.innerHTML = docLinkHtml;\n",
              "          element.appendChild(docLink);\n",
              "        }\n",
              "      </script>\n",
              "    </div>\n",
              "  </div>\n",
              "  "
            ]
          },
          "metadata": {},
          "execution_count": 39
        }
      ]
    },
    {
      "cell_type": "code",
      "source": [
        "training_df[:7]"
      ],
      "metadata": {
        "colab": {
          "base_uri": "https://localhost:8080/",
          "height": 269
        },
        "id": "_Ffzl6j6OMPm",
        "outputId": "430e7c59-02f9-4ad4-f006-5c94b40d9840"
      },
      "execution_count": 40,
      "outputs": [
        {
          "output_type": "execute_result",
          "data": {
            "text/plain": [
              "            date store_id     cat_id    sales       series_id  dayofweek\n",
              "54774 2016-01-31     WI_3  HOUSEHOLD  3923.66  WI_3_HOUSEHOLD          6\n",
              "42308 2016-01-31     WI_1    HOBBIES  1955.78    WI_1_HOBBIES          6\n",
              "43614 2016-01-31     WI_1  HOUSEHOLD  3695.58  WI_1_HOUSEHOLD          6\n",
              "1828  2016-01-31     TX_1      FOODS  6202.96      TX_1_FOODS          6\n",
              "21238 2016-01-31     CA_1    HOBBIES  2976.65    CA_1_HOBBIES          6\n",
              "35186 2016-01-31     CA_4      FOODS  5672.60      CA_4_FOODS          6\n",
              "45069 2016-01-31     WI_2      FOODS  8759.93      WI_2_FOODS          6"
            ],
            "text/html": [
              "\n",
              "  <div id=\"df-323e954e-92c5-42d8-902b-854872aa5e22\">\n",
              "    <div class=\"colab-df-container\">\n",
              "      <div>\n",
              "<style scoped>\n",
              "    .dataframe tbody tr th:only-of-type {\n",
              "        vertical-align: middle;\n",
              "    }\n",
              "\n",
              "    .dataframe tbody tr th {\n",
              "        vertical-align: top;\n",
              "    }\n",
              "\n",
              "    .dataframe thead th {\n",
              "        text-align: right;\n",
              "    }\n",
              "</style>\n",
              "<table border=\"1\" class=\"dataframe\">\n",
              "  <thead>\n",
              "    <tr style=\"text-align: right;\">\n",
              "      <th></th>\n",
              "      <th>date</th>\n",
              "      <th>store_id</th>\n",
              "      <th>cat_id</th>\n",
              "      <th>sales</th>\n",
              "      <th>series_id</th>\n",
              "      <th>dayofweek</th>\n",
              "    </tr>\n",
              "  </thead>\n",
              "  <tbody>\n",
              "    <tr>\n",
              "      <th>54774</th>\n",
              "      <td>2016-01-31</td>\n",
              "      <td>WI_3</td>\n",
              "      <td>HOUSEHOLD</td>\n",
              "      <td>3923.66</td>\n",
              "      <td>WI_3_HOUSEHOLD</td>\n",
              "      <td>6</td>\n",
              "    </tr>\n",
              "    <tr>\n",
              "      <th>42308</th>\n",
              "      <td>2016-01-31</td>\n",
              "      <td>WI_1</td>\n",
              "      <td>HOBBIES</td>\n",
              "      <td>1955.78</td>\n",
              "      <td>WI_1_HOBBIES</td>\n",
              "      <td>6</td>\n",
              "    </tr>\n",
              "    <tr>\n",
              "      <th>43614</th>\n",
              "      <td>2016-01-31</td>\n",
              "      <td>WI_1</td>\n",
              "      <td>HOUSEHOLD</td>\n",
              "      <td>3695.58</td>\n",
              "      <td>WI_1_HOUSEHOLD</td>\n",
              "      <td>6</td>\n",
              "    </tr>\n",
              "    <tr>\n",
              "      <th>1828</th>\n",
              "      <td>2016-01-31</td>\n",
              "      <td>TX_1</td>\n",
              "      <td>FOODS</td>\n",
              "      <td>6202.96</td>\n",
              "      <td>TX_1_FOODS</td>\n",
              "      <td>6</td>\n",
              "    </tr>\n",
              "    <tr>\n",
              "      <th>21238</th>\n",
              "      <td>2016-01-31</td>\n",
              "      <td>CA_1</td>\n",
              "      <td>HOBBIES</td>\n",
              "      <td>2976.65</td>\n",
              "      <td>CA_1_HOBBIES</td>\n",
              "      <td>6</td>\n",
              "    </tr>\n",
              "    <tr>\n",
              "      <th>35186</th>\n",
              "      <td>2016-01-31</td>\n",
              "      <td>CA_4</td>\n",
              "      <td>FOODS</td>\n",
              "      <td>5672.60</td>\n",
              "      <td>CA_4_FOODS</td>\n",
              "      <td>6</td>\n",
              "    </tr>\n",
              "    <tr>\n",
              "      <th>45069</th>\n",
              "      <td>2016-01-31</td>\n",
              "      <td>WI_2</td>\n",
              "      <td>FOODS</td>\n",
              "      <td>8759.93</td>\n",
              "      <td>WI_2_FOODS</td>\n",
              "      <td>6</td>\n",
              "    </tr>\n",
              "  </tbody>\n",
              "</table>\n",
              "</div>\n",
              "      <button class=\"colab-df-convert\" onclick=\"convertToInteractive('df-323e954e-92c5-42d8-902b-854872aa5e22')\"\n",
              "              title=\"Convert this dataframe to an interactive table.\"\n",
              "              style=\"display:none;\">\n",
              "        \n",
              "  <svg xmlns=\"http://www.w3.org/2000/svg\" height=\"24px\"viewBox=\"0 0 24 24\"\n",
              "       width=\"24px\">\n",
              "    <path d=\"M0 0h24v24H0V0z\" fill=\"none\"/>\n",
              "    <path d=\"M18.56 5.44l.94 2.06.94-2.06 2.06-.94-2.06-.94-.94-2.06-.94 2.06-2.06.94zm-11 1L8.5 8.5l.94-2.06 2.06-.94-2.06-.94L8.5 2.5l-.94 2.06-2.06.94zm10 10l.94 2.06.94-2.06 2.06-.94-2.06-.94-.94-2.06-.94 2.06-2.06.94z\"/><path d=\"M17.41 7.96l-1.37-1.37c-.4-.4-.92-.59-1.43-.59-.52 0-1.04.2-1.43.59L10.3 9.45l-7.72 7.72c-.78.78-.78 2.05 0 2.83L4 21.41c.39.39.9.59 1.41.59.51 0 1.02-.2 1.41-.59l7.78-7.78 2.81-2.81c.8-.78.8-2.07 0-2.86zM5.41 20L4 18.59l7.72-7.72 1.47 1.35L5.41 20z\"/>\n",
              "  </svg>\n",
              "      </button>\n",
              "      \n",
              "  <style>\n",
              "    .colab-df-container {\n",
              "      display:flex;\n",
              "      flex-wrap:wrap;\n",
              "      gap: 12px;\n",
              "    }\n",
              "\n",
              "    .colab-df-convert {\n",
              "      background-color: #E8F0FE;\n",
              "      border: none;\n",
              "      border-radius: 50%;\n",
              "      cursor: pointer;\n",
              "      display: none;\n",
              "      fill: #1967D2;\n",
              "      height: 32px;\n",
              "      padding: 0 0 0 0;\n",
              "      width: 32px;\n",
              "    }\n",
              "\n",
              "    .colab-df-convert:hover {\n",
              "      background-color: #E2EBFA;\n",
              "      box-shadow: 0px 1px 2px rgba(60, 64, 67, 0.3), 0px 1px 3px 1px rgba(60, 64, 67, 0.15);\n",
              "      fill: #174EA6;\n",
              "    }\n",
              "\n",
              "    [theme=dark] .colab-df-convert {\n",
              "      background-color: #3B4455;\n",
              "      fill: #D2E3FC;\n",
              "    }\n",
              "\n",
              "    [theme=dark] .colab-df-convert:hover {\n",
              "      background-color: #434B5C;\n",
              "      box-shadow: 0px 1px 3px 1px rgba(0, 0, 0, 0.15);\n",
              "      filter: drop-shadow(0px 1px 2px rgba(0, 0, 0, 0.3));\n",
              "      fill: #FFFFFF;\n",
              "    }\n",
              "  </style>\n",
              "\n",
              "      <script>\n",
              "        const buttonEl =\n",
              "          document.querySelector('#df-323e954e-92c5-42d8-902b-854872aa5e22 button.colab-df-convert');\n",
              "        buttonEl.style.display =\n",
              "          google.colab.kernel.accessAllowed ? 'block' : 'none';\n",
              "\n",
              "        async function convertToInteractive(key) {\n",
              "          const element = document.querySelector('#df-323e954e-92c5-42d8-902b-854872aa5e22');\n",
              "          const dataTable =\n",
              "            await google.colab.kernel.invokeFunction('convertToInteractive',\n",
              "                                                     [key], {});\n",
              "          if (!dataTable) return;\n",
              "\n",
              "          const docLinkHtml = 'Like what you see? Visit the ' +\n",
              "            '<a target=\"_blank\" href=https://colab.research.google.com/notebooks/data_table.ipynb>data table notebook</a>'\n",
              "            + ' to learn more about interactive tables.';\n",
              "          element.innerHTML = '';\n",
              "          dataTable['output_type'] = 'display_data';\n",
              "          await google.colab.output.renderOutput(dataTable, element);\n",
              "          const docLink = document.createElement('div');\n",
              "          docLink.innerHTML = docLinkHtml;\n",
              "          element.appendChild(docLink);\n",
              "        }\n",
              "      </script>\n",
              "    </div>\n",
              "  </div>\n",
              "  "
            ]
          },
          "metadata": {},
          "execution_count": 40
        }
      ]
    },
    {
      "cell_type": "markdown",
      "metadata": {
        "id": "lG0RBihKmTgg"
      },
      "source": [
        "Similarly, let's plot our sNaive predictions against the actual sales for a random time series."
      ]
    },
    {
      "cell_type": "markdown",
      "metadata": {
        "id": "4Zd-z4PNmTgg"
      },
      "source": [
        "<ins>Instructions</ins>:<br>\n",
        "- Plot the sNaive predictions against the actual sales for a time series"
      ]
    },
    {
      "cell_type": "markdown",
      "metadata": {
        "id": "pudTkMpTDv0a"
      },
      "source": [
        "<ins>Hints</ins> (click when needed):<br>\n",
        "- [Use Seaborn `lineplot` to plot line plots](https://seaborn.pydata.org/generated/seaborn.lineplot.html)"
      ]
    },
    {
      "cell_type": "code",
      "execution_count": 70,
      "metadata": {
        "colab": {
          "base_uri": "https://localhost:8080/",
          "height": 515
        },
        "id": "yISHVcjqmTgi",
        "outputId": "de3209cd-c04b-4e3a-f307-576ab3af175c"
      },
      "outputs": [
        {
          "output_type": "stream",
          "name": "stdout",
          "text": [
            "snaive_pred\n"
          ]
        },
        {
          "output_type": "display_data",
          "data": {
            "text/plain": [
              "<Figure size 1152x576 with 1 Axes>"
            ],
            "image/png": "[encoded data removed]"
          },
          "metadata": {
            "needs_background": "light"
          }
        }
      ],
      "source": [
        "# plot sNaive predictions against actual sales for a time series\n",
        "plot_pred(snaive_test_df, 'WI_3_HOUSEHOLD', 'snaive_pred')"
      ]
    },
    {
      "cell_type": "markdown",
      "metadata": {
        "id": "q9djOlvhmTgn"
      },
      "source": [
        "This time round, the sNaive predictions seem much more realistic and is somehow able to follow the oscillations of the actual sales."
      ]
    },
    {
      "cell_type": "markdown",
      "metadata": {
        "id": "tnpPwS1RmTgo"
      },
      "source": [
        "Intuitively, we know that the sNaive method will be a better baseline than the Naive method. But rather than seeing random plots comparing the predictions against actual sales, is there a score that we can use to summarise the model performance?\n",
        "\n",
        "This is what we shall set out to do in the next section below."
      ]
    },
    {
      "cell_type": "markdown",
      "metadata": {
        "id": "f5Cf6PsTmTgq"
      },
      "source": [
        "## Choosing our Metrics"
      ]
    },
    {
      "cell_type": "markdown",
      "metadata": {
        "id": "r_Yf7_VJmTgq"
      },
      "source": [
        "In time series, there are various metrics that we can use to evaluate our models.\n",
        "\n",
        "Based on Prof Rob Hyndman in this [paper](https://robjhyndman.com/papers/foresight.pdf), there are four types of metrics for time series forecasting. In our case, we shall compute Mean Absolute Error (MAE) and Mean Absolute Percentage Error (MAPE) for each time series.\n",
        "\n",
        "In addition, because we have multiple time series, we need to somehow weigh the score for each time series and combine them into a single overall score. In our case, we shall weigh the time series based on the cumulative actual dollar sales, which is computed using the last 28 observations of the training data. This weightage method follows the [M5 competition in Kaggle](https://www.kaggle.com/c/m5-forecasting-accuracy/overview/evaluation). "
      ]
    },
    {
      "cell_type": "markdown",
      "metadata": {
        "id": "h3B-KMwJmTgq"
      },
      "source": [
        "<ins>Instructions</ins>:<br>\n",
        "- Implement a function that given a time series, computes the MAE\n",
        "- Implement a function that given a training and test data, computes the weighted MAE\n",
        "- Implement code to calculate the cross-validated weighted MAE for the Naive and sNaive models respectively. Use 3 splits."
      ]
    },
    {
      "cell_type": "markdown",
      "metadata": {
        "id": "NBf_s0nKDv0f"
      },
      "source": [
        "<ins>Hints</ins> (click when needed):<br>\n",
        "- [Refer to this link for the MAE formula](https://en.wikipedia.org/wiki/Mean_absolute_error)\n",
        "- [Read page 8 of this document to understand how weighting is performed](https://mofc.unic.ac.cy/wp-content/uploads/2020/03/M5-Competitors-Guide-Final-10-March-2020.docx)"
      ]
    },
    {
      "cell_type": "code",
      "source": [
        "#training_df.loc[training_df['series_id'] == 'TX_1_FOODS', 'sales']\n",
        "#training_df.sort_values(by='date', ascending=False).head()\n",
        "(training_df['sales'].tail() - 100)/training_df['sales'].tail() #array([2288.38, 2140.49, 3204.62, 4195.64, 3923.66])"
      ],
      "metadata": {
        "colab": {
          "base_uri": "https://localhost:8080/"
        },
        "id": "YmtSDbvMhKDo",
        "outputId": "4631c754-335d-42e8-92cc-220e784f48fc"
      },
      "execution_count": 95,
      "outputs": [
        {
          "output_type": "execute_result",
          "data": {
            "text/plain": [
              "54770    0.956301\n",
              "54771    0.953282\n",
              "54772    0.968795\n",
              "54773    0.976166\n",
              "54774    0.974514\n",
              "Name: sales, dtype: float64"
            ]
          },
          "metadata": {},
          "execution_count": 95
        }
      ]
    },
    {
      "cell_type": "code",
      "execution_count": 87,
      "metadata": {
        "id": "7EGSX_RZmTgu"
      },
      "outputs": [],
      "source": [
        "# implement functions to compute MAE and weighted MAE\n",
        "def compute_mae(training_df, prediction_test_df, y, y_hat, series_id):\n",
        "    \"\"\"\n",
        "    Given a time series ID, compute the MAE for that time series and return the last 28-day training sales\n",
        "    \"\"\"\n",
        "    #training_df.sort_values(by=['date', 'store_id', 'cat_id'], ascending=(False,True, True), inplace=True)\n",
        "\n",
        "    training_sales_last_28 = training_df.loc[training_df['series_id'] == series_id, y].tail(28).values\n",
        "    prediction_test_last_28 = prediction_test_df.loc[prediction_test_df['series_id'] == series_id, y_hat].tail(28).values\n",
        "    error_last_28 = np.abs(training_sales_last_28 - prediction_test_last_28)\n",
        "    mae_error_last_28 = error_last_28.mean()\n",
        "\n",
        "    return (training_sales_last_28, error_last_28, mae_error_last_28)\n",
        "\n",
        "\n",
        "def compute_wmae(training_df, prediction_test_df, y, y_hat):\n",
        "    \"\"\"\n",
        "    Given a training and prediction data, compute the weighted MAE\n",
        "    \"\"\"\n",
        "    training_sales_last_28 = training_df[y].tail(28).values\n",
        "    prediction_test_last_28 = prediction_test_df[y_hat].tail(28).values\n",
        "    error_last_28 = np.abs(training_sales_last_28 - prediction_test_last_28)\n",
        "\n",
        "    #training_sales_last_28, error_last_28, mae_error_last_28 = compute_mae()\n",
        "    overall_sales = np.sum(training_sales_last_28)\n",
        "    weights_list = [s/overall_sales for s in training_sales_last_28]\n",
        "    wmae_list = [a*b for a,b in zip(error_last_28, weights_list)]\n",
        "    return np.sum(wmae_list)\n"
      ]
    },
    {
      "cell_type": "code",
      "source": [
        "training_sales_last_28"
      ],
      "metadata": {
        "colab": {
          "base_uri": "https://localhost:8080/",
          "height": 166
        },
        "id": "FPnuDHcgtlbt",
        "outputId": "2eeac875-7fa8-4676-ba7e-281cdb88b56f"
      },
      "execution_count": 91,
      "outputs": [
        {
          "output_type": "error",
          "ename": "NameError",
          "evalue": "ignored",
          "traceback": [
            "\u001b[0;31m---------------------------------------------------------------------------\u001b[0m",
            "\u001b[0;31mNameError\u001b[0m                                 Traceback (most recent call last)",
            "\u001b[0;32m<ipython-input-91-ec14278b3f02>\u001b[0m in \u001b[0;36m<module>\u001b[0;34m()\u001b[0m\n\u001b[0;32m----> 1\u001b[0;31m \u001b[0mtraining_sales_last_28\u001b[0m\u001b[0;34m\u001b[0m\u001b[0;34m\u001b[0m\u001b[0m\n\u001b[0m",
            "\u001b[0;31mNameError\u001b[0m: name 'training_sales_last_28' is not defined"
          ]
        }
      ]
    },
    {
      "cell_type": "code",
      "source": [
        "# >>> sales_list = [100, 200, 150]\n",
        "#   >>> mae_list = [20, 30, 15]\n",
        "\n",
        "#   >>> overall_sales = np.sum(sales_list)\n",
        "#   >>> weights_list = [s/overall_sales for s in sales_list]\n",
        "#   >>> wmae_list = [a*b for a,b in zip(mae_list, weights_list)]  # multiply weight to MAE\n",
        "#   >>> np.sum(wmae_list)  # Weighted MAE"
      ],
      "metadata": {
        "id": "3M4j1UIqmEfi"
      },
      "execution_count": null,
      "outputs": []
    },
    {
      "cell_type": "code",
      "execution_count": 89,
      "metadata": {
        "colab": {
          "base_uri": "https://localhost:8080/"
        },
        "id": "6yqFXJYzmTgz",
        "outputId": "36d13b3f-8d7e-4052-9212-059713ebe8d7"
      },
      "outputs": [
        {
          "output_type": "execute_result",
          "data": {
            "text/plain": [
              "1103.5174510731522"
            ]
          },
          "metadata": {},
          "execution_count": 89
        }
      ],
      "source": [
        "# compute the cross-validated weighted MAE for the Naive model\n",
        "compute_wmae(training_df = training_df, prediction_test_df = naive_test_df, y='sales', y_hat='naive_pred')"
      ]
    },
    {
      "cell_type": "code",
      "execution_count": 90,
      "metadata": {
        "colab": {
          "base_uri": "https://localhost:8080/"
        },
        "id": "igSvNMLRmTgz",
        "outputId": "81ec6e18-0526-4fd0-c15b-733dc96603b4"
      },
      "outputs": [
        {
          "output_type": "execute_result",
          "data": {
            "text/plain": [
              "347.9858804746284"
            ]
          },
          "metadata": {},
          "execution_count": 90
        }
      ],
      "source": [
        "# compute the cross-validated weighted MAE for the sNaive model\n",
        "compute_wmae(training_df = training_df, prediction_test_df = snaive_test_df, y='sales', y_hat='snaive_pred')"
      ]
    },
    {
      "cell_type": "markdown",
      "metadata": {
        "id": "M9B4rgcEmTg0"
      },
      "source": [
        "Based on the 3-split cross-validated weighted MAE, the sNaive method has almost half the weighted MAE of the Naive method."
      ]
    },
    {
      "cell_type": "markdown",
      "metadata": {
        "id": "B6kvCbJImTg1"
      },
      "source": [
        "<ins>Instructions</ins>:<br>\n",
        "Similar to the computation for MAE, we shall now implement the same for MAPE\n",
        "- Implement a function that given a time series, computes the MAPE\n",
        "- Implement a function that given a training and test data, computes the weighted MAPE\n",
        "- Implement code to calculate the cross-validated weighted MAPE for the Naive and sNaive models respectively. Use 3 splits."
      ]
    },
    {
      "cell_type": "markdown",
      "metadata": {
        "id": "sOD-boweDv0l"
      },
      "source": [
        "<ins>Hints</ins> (click when needed):<br>\n",
        "- [Refer to this link for the MAPE formula](https://en.wikipedia.org/wiki/Mean_absolute_percentage_error)\n",
        "- [Read page 8 of this document to understand how weighting is performed](https://mofc.unic.ac.cy/wp-content/uploads/2020/03/M5-Competitors-Guide-Final-10-March-2020.docx)\n"
      ]
    },
    {
      "cell_type": "code",
      "execution_count": 92,
      "metadata": {
        "id": "T_it-oZxmTg1"
      },
      "outputs": [],
      "source": [
        "# implement functions to compute MAPE and weighted MAPE\n",
        "def compute_mape(training_df, prediction_test_df, y, y_hat, series_id):\n",
        "    \"\"\"\n",
        "    Given a time series ID, compute the MAPE for that time series and return the last 28-day training sales\n",
        "    \"\"\"\n",
        "    training_sales_last_28 = training_df.loc[training_df['series_id'] == series_id, y].tail(28).values\n",
        "    prediction_test_last_28 = prediction_test_df.loc[prediction_test_df['series_id'] == series_id, y_hat].tail(28).values\n",
        "    p_error_last_28 = np.abs((training_sales_last_28 - prediction_test_last_28)/training_sales_last_28)\n",
        "    mape_error_last_28 = p_error_last_28.mean()\n",
        "\n",
        "    return (training_sales_last_28, p_error_last_28, mape_error_last_28)\n",
        "\n",
        "def compute_wmape(training_df, prediction_test_df, y, y_hat):\n",
        "    \"\"\"\n",
        "    Given a training and prediction data, compute the weighted MAPE\n",
        "    \"\"\"\n",
        "    training_sales_last_28 = training_df[y].tail(28).values\n",
        "    prediction_test_last_28 = prediction_test_df[y_hat].tail(28).values\n",
        "    p_error_last_28 = np.abs((training_sales_last_28 - prediction_test_last_28)/training_sales_last_28)\n",
        "\n",
        "    #training_sales_last_28, error_last_28, mae_error_last_28 = compute_mae()\n",
        "    overall_sales = np.sum(training_sales_last_28)\n",
        "    weights_list = [s/overall_sales for s in training_sales_last_28]\n",
        "    wmape_list = [a*b for a,b in zip(p_error_last_28, weights_list)]\n",
        "    return np.sum(wmape_list)"
      ]
    },
    {
      "cell_type": "code",
      "execution_count": 97,
      "metadata": {
        "colab": {
          "base_uri": "https://localhost:8080/"
        },
        "id": "rPsmOzxImTg5",
        "outputId": "bfb249e9-48b5-4863-a435-44e37325f6cd"
      },
      "outputs": [
        {
          "output_type": "execute_result",
          "data": {
            "text/plain": [
              "0.4671534922462005"
            ]
          },
          "metadata": {},
          "execution_count": 97
        }
      ],
      "source": [
        "# compute the cross-validated weighted MAPE for the Naive model\n",
        "compute_wmape(training_df = training_df, prediction_test_df = naive_test_df, y='sales', y_hat='naive_pred')"
      ]
    },
    {
      "cell_type": "code",
      "execution_count": 98,
      "metadata": {
        "colab": {
          "base_uri": "https://localhost:8080/"
        },
        "id": "BEuLwmUPmTg8",
        "outputId": "0f1aae2d-ec85-4210-950a-5c31a704ccd1"
      },
      "outputs": [
        {
          "output_type": "execute_result",
          "data": {
            "text/plain": [
              "0.12525065732349938"
            ]
          },
          "metadata": {},
          "execution_count": 98
        }
      ],
      "source": [
        "# compute the cross-validated weighted MAPE for the sNaive model\n",
        "compute_wmape(training_df = training_df, prediction_test_df = snaive_test_df, y='sales', y_hat='snaive_pred')"
      ]
    },
    {
      "cell_type": "markdown",
      "metadata": {
        "id": "Rtly4zPEmThM"
      },
      "source": [
        "Similar to the conclusions from analysing the MAE, the sNaive model has a lower weighted MAPE than the Naive model. \n",
        "\n",
        "We will therefore use the sNaive method as our baseline."
      ]
    },
    {
      "cell_type": "markdown",
      "metadata": {
        "id": "vJgVNjiumThW"
      },
      "source": [
        "## Forecasting with Facebook Prophet"
      ]
    },
    {
      "cell_type": "markdown",
      "metadata": {
        "id": "zTJyUyBxmThW"
      },
      "source": [
        "Now that we have a baseline reference, let's implement a more sophisticated model for our forecasting.\n",
        "\n",
        "[Facebook Prophet](https://facebook.github.io/prophet/) is an open source software released by Facebook and is used in many applications across Facebook for producing reliable forecasts.\n",
        "\n",
        "We shall use Prophet to implement our model."
      ]
    },
    {
      "cell_type": "markdown",
      "metadata": {
        "id": "-2os2aq6Dv0q"
      },
      "source": [
        "As an example, suppose we have the following dummy data."
      ]
    },
    {
      "cell_type": "code",
      "execution_count": null,
      "metadata": {
        "id": "aauT4MnDDv0q"
      },
      "outputs": [],
      "source": [
        "# dummy data\n",
        "training_df = pd.DataFrame({'date': ['2015-02-15', '2015-02-16', '2015-02-17'], 'sales': [3, 7, 2]})\n",
        "training_df['date'] = pd.to_datetime(training_df['date'])\n",
        "test_df = pd.DataFrame({'date': ['2015-02-18'], 'sales': [9]})\n",
        "test_df['date'] = pd.to_datetime(test_df['date'])\n",
        "\n",
        "print(\"Training Data:\")\n",
        "display(training_df)\n",
        "print(\"Test Data:\")\n",
        "display(test_df)"
      ]
    },
    {
      "cell_type": "markdown",
      "metadata": {
        "id": "j-SGXSquDv0r"
      },
      "source": [
        "We can perform model training by this:"
      ]
    },
    {
      "cell_type": "code",
      "execution_count": null,
      "metadata": {
        "id": "oeJvxVkmDv0s"
      },
      "outputs": [],
      "source": [
        "# renaming column names to suit Prophet\n",
        "training_df.rename(columns={'sales': 'y', 'date':'ds'}, inplace=True)\n",
        "m = Prophet()\n",
        "m.fit(training_df)  # training"
      ]
    },
    {
      "cell_type": "markdown",
      "metadata": {
        "id": "s62hFpXcDv0s"
      },
      "source": [
        "To make our predictions, we can do this:"
      ]
    },
    {
      "cell_type": "code",
      "source": [
        "Prophet()"
      ],
      "metadata": {
        "id": "J2HMI9-Y4r-r"
      },
      "execution_count": null,
      "outputs": []
    },
    {
      "cell_type": "code",
      "execution_count": null,
      "metadata": {
        "id": "Ffk7LBfMDv0u"
      },
      "outputs": [],
      "source": [
        "# make predictions\n",
        "future = m.make_future_dataframe(periods=1, include_history=False)\n",
        "prophet_pred_df = m.predict(future)[['ds', 'yhat']]\n",
        "prophet_pred_df.rename(columns={'ds':'date', 'yhat':'prophet_pred'}, inplace=True)\n",
        "prophet_test_df = test_df.merge(prophet_pred_df, on=['date'], how='left')\n",
        "prophet_test_df"
      ]
    },
    {
      "cell_type": "markdown",
      "metadata": {
        "id": "X4A438UfmThW"
      },
      "source": [
        "<ins>Instructions</ins>:<br>\n",
        "- Implement a model using Prophet to forecast the next 28 days sales for each time series\n",
        "- Test your model using the first CV split\n",
        "- Plot the Prophet predictions against the actual sales\n",
        "\n",
        "<ins>Bonus</ins>:<br>\n",
        "- Add in a [monthly seasonality](https://facebook.github.io/prophet/docs/seasonality,_holiday_effects,_and_regressors.html#specifying-custom-seasonalities) to your Prophet model to improve its accuracy"
      ]
    },
    {
      "cell_type": "markdown",
      "metadata": {
        "id": "waTRm-jdDv0v"
      },
      "source": [
        "<ins>Hints</ins> (click when needed):<br>\n",
        "- [Refer to this quickstart guide for further guidance on how to model using Prophet](https://facebook.github.io/prophet/docs/quick_start.html)\n"
      ]
    },
    {
      "cell_type": "code",
      "execution_count": 113,
      "metadata": {
        "id": "0u0BPz6tmThW"
      },
      "outputs": [],
      "source": [
        "# Function to train and predict sales using Prophet\n",
        "def prophet_predictions(training_df, test_df, cv, series_id, changepoint_prior_scale=0.05, changepoint_range=0.8):\n",
        "    \"\"\"\n",
        "    Train and predict sales using Prophet\n",
        "    \"\"\"\n",
        "    training_df_series = training_df.loc[training_df['series_id'] == series_id, :]\n",
        "    training_df_series.rename(columns={'sales': 'y', 'date':'ds'}, inplace=True)\n",
        "    m = Prophet(changepoint_prior_scale=0.05, changepoint_range=0.8)\n",
        "    m.fit(training_df)\n",
        "\n",
        "    future = m.make_future_dataframe(periods=27, include_history=False)\n",
        "    prophet_pred_df = m.predict(future)[['ds', 'yhat']]\n",
        "    prophet_pred_df.rename(columns={'ds':'date', 'yhat':'prophet_pred'}, inplace=True)\n",
        "    test_df_series = test_df.loc[test_df['series_id'] == series_id, :]\n",
        "    prophet_test_df = test_df_series.merge(prophet_pred_df, on=['date'], how='left')\n",
        "\n",
        "    return prophet_test_df"
      ]
    },
    {
      "cell_type": "code",
      "execution_count": 114,
      "metadata": {
        "colab": {
          "base_uri": "https://localhost:8080/"
        },
        "id": "I4RNwtD5mThW",
        "outputId": "5f1a2414-ad41-4557-9dc7-c01f50832c6d"
      },
      "outputs": [
        {
          "output_type": "stream",
          "name": "stderr",
          "text": [
            "INFO:prophet:Disabling daily seasonality. Run prophet with daily_seasonality=True to override this.\n"
          ]
        }
      ],
      "source": [
        "# Run Prophet model for first CV split\n",
        "prophet_test_df_cv1 = prophet_predictions(training_df = training_df, test_df = test_df, cv = 1, series_id = 'TX_1_FOODS', changepoint_prior_scale = 0.05, changepoint_range = 0.8)"
      ]
    },
    {
      "cell_type": "code",
      "source": [
        "print(training_df.shape, test_df.shape, prophet_test_df_cv1.shape)"
      ],
      "metadata": {
        "colab": {
          "base_uri": "https://localhost:8080/"
        },
        "id": "bsGd7tDp5kJ_",
        "outputId": "e52ea468-0e5b-4097-fb8a-22754e582516"
      },
      "execution_count": 110,
      "outputs": [
        {
          "output_type": "stream",
          "name": "stdout",
          "text": [
            "(51527, 5) (840, 6) (840, 7)\n"
          ]
        }
      ]
    },
    {
      "cell_type": "code",
      "source": [
        "prophet_test_df_cv1"
      ],
      "metadata": {
        "colab": {
          "base_uri": "https://localhost:8080/",
          "height": 927
        },
        "id": "aqt1wH546Qb7",
        "outputId": "bfec11fb-40be-4538-d7fa-5ebbe26aba8c"
      },
      "execution_count": 115,
      "outputs": [
        {
          "output_type": "execute_result",
          "data": {
            "text/plain": [
              "         date store_id cat_id    sales   series_id  dayofweek  prophet_pred\n",
              "0  2016-02-29     TX_1  FOODS  4307.71  TX_1_FOODS          0           NaN\n",
              "1  2016-03-01     TX_1  FOODS  5214.34  TX_1_FOODS          1           NaN\n",
              "2  2016-03-02     TX_1  FOODS  4531.55  TX_1_FOODS          2           NaN\n",
              "3  2016-03-03     TX_1  FOODS  4905.09  TX_1_FOODS          3           NaN\n",
              "4  2016-03-04     TX_1  FOODS  4484.40  TX_1_FOODS          4           NaN\n",
              "5  2016-03-05     TX_1  FOODS  6019.73  TX_1_FOODS          5           NaN\n",
              "6  2016-03-06     TX_1  FOODS  6989.22  TX_1_FOODS          6           NaN\n",
              "7  2016-03-07     TX_1  FOODS  5468.67  TX_1_FOODS          0           NaN\n",
              "8  2016-03-08     TX_1  FOODS  4856.39  TX_1_FOODS          1           NaN\n",
              "9  2016-03-09     TX_1  FOODS  4490.23  TX_1_FOODS          2           NaN\n",
              "10 2016-03-10     TX_1  FOODS  4848.27  TX_1_FOODS          3           NaN\n",
              "11 2016-03-11     TX_1  FOODS  5304.50  TX_1_FOODS          4           NaN\n",
              "12 2016-03-12     TX_1  FOODS  6349.25  TX_1_FOODS          5           NaN\n",
              "13 2016-03-13     TX_1  FOODS  6818.72  TX_1_FOODS          6           NaN\n",
              "14 2016-03-14     TX_1  FOODS  5790.69  TX_1_FOODS          0           NaN\n",
              "15 2016-03-15     TX_1  FOODS  5975.23  TX_1_FOODS          1           NaN\n",
              "16 2016-03-16     TX_1  FOODS  5168.20  TX_1_FOODS          2           NaN\n",
              "17 2016-03-17     TX_1  FOODS  4957.48  TX_1_FOODS          3           NaN\n",
              "18 2016-03-18     TX_1  FOODS  5320.01  TX_1_FOODS          4           NaN\n",
              "19 2016-03-19     TX_1  FOODS  5698.99  TX_1_FOODS          5           NaN\n",
              "20 2016-03-20     TX_1  FOODS  6522.75  TX_1_FOODS          6           NaN\n",
              "21 2016-03-21     TX_1  FOODS  4443.71  TX_1_FOODS          0           NaN\n",
              "22 2016-03-22     TX_1  FOODS  4567.34  TX_1_FOODS          1           NaN\n",
              "23 2016-03-23     TX_1  FOODS  4571.37  TX_1_FOODS          2           NaN\n",
              "24 2016-03-24     TX_1  FOODS  3964.71  TX_1_FOODS          3           NaN\n",
              "25 2016-03-25     TX_1  FOODS  5708.25  TX_1_FOODS          4           NaN\n",
              "26 2016-03-26     TX_1  FOODS  6306.97  TX_1_FOODS          5           NaN\n",
              "27 2016-03-27     TX_1  FOODS  7966.05  TX_1_FOODS          6           NaN"
            ],
            "text/html": [
              "\n",
              "  <div id=\"df-c5ef08bd-1ef3-4b98-b9f6-78736055b7d9\">\n",
              "    <div class=\"colab-df-container\">\n",
              "      <div>\n",
              "<style scoped>\n",
              "    .dataframe tbody tr th:only-of-type {\n",
              "        vertical-align: middle;\n",
              "    }\n",
              "\n",
              "    .dataframe tbody tr th {\n",
              "        vertical-align: top;\n",
              "    }\n",
              "\n",
              "    .dataframe thead th {\n",
              "        text-align: right;\n",
              "    }\n",
              "</style>\n",
              "<table border=\"1\" class=\"dataframe\">\n",
              "  <thead>\n",
              "    <tr style=\"text-align: right;\">\n",
              "      <th></th>\n",
              "      <th>date</th>\n",
              "      <th>store_id</th>\n",
              "      <th>cat_id</th>\n",
              "      <th>sales</th>\n",
              "      <th>series_id</th>\n",
              "      <th>dayofweek</th>\n",
              "      <th>prophet_pred</th>\n",
              "    </tr>\n",
              "  </thead>\n",
              "  <tbody>\n",
              "    <tr>\n",
              "      <th>0</th>\n",
              "      <td>2016-02-29</td>\n",
              "      <td>TX_1</td>\n",
              "      <td>FOODS</td>\n",
              "      <td>4307.71</td>\n",
              "      <td>TX_1_FOODS</td>\n",
              "      <td>0</td>\n",
              "      <td>NaN</td>\n",
              "    </tr>\n",
              "    <tr>\n",
              "      <th>1</th>\n",
              "      <td>2016-03-01</td>\n",
              "      <td>TX_1</td>\n",
              "      <td>FOODS</td>\n",
              "      <td>5214.34</td>\n",
              "      <td>TX_1_FOODS</td>\n",
              "      <td>1</td>\n",
              "      <td>NaN</td>\n",
              "    </tr>\n",
              "    <tr>\n",
              "      <th>2</th>\n",
              "      <td>2016-03-02</td>\n",
              "      <td>TX_1</td>\n",
              "      <td>FOODS</td>\n",
              "      <td>4531.55</td>\n",
              "      <td>TX_1_FOODS</td>\n",
              "      <td>2</td>\n",
              "      <td>NaN</td>\n",
              "    </tr>\n",
              "    <tr>\n",
              "      <th>3</th>\n",
              "      <td>2016-03-03</td>\n",
              "      <td>TX_1</td>\n",
              "      <td>FOODS</td>\n",
              "      <td>4905.09</td>\n",
              "      <td>TX_1_FOODS</td>\n",
              "      <td>3</td>\n",
              "      <td>NaN</td>\n",
              "    </tr>\n",
              "    <tr>\n",
              "      <th>4</th>\n",
              "      <td>2016-03-04</td>\n",
              "      <td>TX_1</td>\n",
              "      <td>FOODS</td>\n",
              "      <td>4484.40</td>\n",
              "      <td>TX_1_FOODS</td>\n",
              "      <td>4</td>\n",
              "      <td>NaN</td>\n",
              "    </tr>\n",
              "    <tr>\n",
              "      <th>5</th>\n",
              "      <td>2016-03-05</td>\n",
              "      <td>TX_1</td>\n",
              "      <td>FOODS</td>\n",
              "      <td>6019.73</td>\n",
              "      <td>TX_1_FOODS</td>\n",
              "      <td>5</td>\n",
              "      <td>NaN</td>\n",
              "    </tr>\n",
              "    <tr>\n",
              "      <th>6</th>\n",
              "      <td>2016-03-06</td>\n",
              "      <td>TX_1</td>\n",
              "      <td>FOODS</td>\n",
              "      <td>6989.22</td>\n",
              "      <td>TX_1_FOODS</td>\n",
              "      <td>6</td>\n",
              "      <td>NaN</td>\n",
              "    </tr>\n",
              "    <tr>\n",
              "      <th>7</th>\n",
              "      <td>2016-03-07</td>\n",
              "      <td>TX_1</td>\n",
              "      <td>FOODS</td>\n",
              "      <td>5468.67</td>\n",
              "      <td>TX_1_FOODS</td>\n",
              "      <td>0</td>\n",
              "      <td>NaN</td>\n",
              "    </tr>\n",
              "    <tr>\n",
              "      <th>8</th>\n",
              "      <td>2016-03-08</td>\n",
              "      <td>TX_1</td>\n",
              "      <td>FOODS</td>\n",
              "      <td>4856.39</td>\n",
              "      <td>TX_1_FOODS</td>\n",
              "      <td>1</td>\n",
              "      <td>NaN</td>\n",
              "    </tr>\n",
              "    <tr>\n",
              "      <th>9</th>\n",
              "      <td>2016-03-09</td>\n",
              "      <td>TX_1</td>\n",
              "      <td>FOODS</td>\n",
              "      <td>4490.23</td>\n",
              "      <td>TX_1_FOODS</td>\n",
              "      <td>2</td>\n",
              "      <td>NaN</td>\n",
              "    </tr>\n",
              "    <tr>\n",
              "      <th>10</th>\n",
              "      <td>2016-03-10</td>\n",
              "      <td>TX_1</td>\n",
              "      <td>FOODS</td>\n",
              "      <td>4848.27</td>\n",
              "      <td>TX_1_FOODS</td>\n",
              "      <td>3</td>\n",
              "      <td>NaN</td>\n",
              "    </tr>\n",
              "    <tr>\n",
              "      <th>11</th>\n",
              "      <td>2016-03-11</td>\n",
              "      <td>TX_1</td>\n",
              "      <td>FOODS</td>\n",
              "      <td>5304.50</td>\n",
              "      <td>TX_1_FOODS</td>\n",
              "      <td>4</td>\n",
              "      <td>NaN</td>\n",
              "    </tr>\n",
              "    <tr>\n",
              "      <th>12</th>\n",
              "      <td>2016-03-12</td>\n",
              "      <td>TX_1</td>\n",
              "      <td>FOODS</td>\n",
              "      <td>6349.25</td>\n",
              "      <td>TX_1_FOODS</td>\n",
              "      <td>5</td>\n",
              "      <td>NaN</td>\n",
              "    </tr>\n",
              "    <tr>\n",
              "      <th>13</th>\n",
              "      <td>2016-03-13</td>\n",
              "      <td>TX_1</td>\n",
              "      <td>FOODS</td>\n",
              "      <td>6818.72</td>\n",
              "      <td>TX_1_FOODS</td>\n",
              "      <td>6</td>\n",
              "      <td>NaN</td>\n",
              "    </tr>\n",
              "    <tr>\n",
              "      <th>14</th>\n",
              "      <td>2016-03-14</td>\n",
              "      <td>TX_1</td>\n",
              "      <td>FOODS</td>\n",
              "      <td>5790.69</td>\n",
              "      <td>TX_1_FOODS</td>\n",
              "      <td>0</td>\n",
              "      <td>NaN</td>\n",
              "    </tr>\n",
              "    <tr>\n",
              "      <th>15</th>\n",
              "      <td>2016-03-15</td>\n",
              "      <td>TX_1</td>\n",
              "      <td>FOODS</td>\n",
              "      <td>5975.23</td>\n",
              "      <td>TX_1_FOODS</td>\n",
              "      <td>1</td>\n",
              "      <td>NaN</td>\n",
              "    </tr>\n",
              "    <tr>\n",
              "      <th>16</th>\n",
              "      <td>2016-03-16</td>\n",
              "      <td>TX_1</td>\n",
              "      <td>FOODS</td>\n",
              "      <td>5168.20</td>\n",
              "      <td>TX_1_FOODS</td>\n",
              "      <td>2</td>\n",
              "      <td>NaN</td>\n",
              "    </tr>\n",
              "    <tr>\n",
              "      <th>17</th>\n",
              "      <td>2016-03-17</td>\n",
              "      <td>TX_1</td>\n",
              "      <td>FOODS</td>\n",
              "      <td>4957.48</td>\n",
              "      <td>TX_1_FOODS</td>\n",
              "      <td>3</td>\n",
              "      <td>NaN</td>\n",
              "    </tr>\n",
              "    <tr>\n",
              "      <th>18</th>\n",
              "      <td>2016-03-18</td>\n",
              "      <td>TX_1</td>\n",
              "      <td>FOODS</td>\n",
              "      <td>5320.01</td>\n",
              "      <td>TX_1_FOODS</td>\n",
              "      <td>4</td>\n",
              "      <td>NaN</td>\n",
              "    </tr>\n",
              "    <tr>\n",
              "      <th>19</th>\n",
              "      <td>2016-03-19</td>\n",
              "      <td>TX_1</td>\n",
              "      <td>FOODS</td>\n",
              "      <td>5698.99</td>\n",
              "      <td>TX_1_FOODS</td>\n",
              "      <td>5</td>\n",
              "      <td>NaN</td>\n",
              "    </tr>\n",
              "    <tr>\n",
              "      <th>20</th>\n",
              "      <td>2016-03-20</td>\n",
              "      <td>TX_1</td>\n",
              "      <td>FOODS</td>\n",
              "      <td>6522.75</td>\n",
              "      <td>TX_1_FOODS</td>\n",
              "      <td>6</td>\n",
              "      <td>NaN</td>\n",
              "    </tr>\n",
              "    <tr>\n",
              "      <th>21</th>\n",
              "      <td>2016-03-21</td>\n",
              "      <td>TX_1</td>\n",
              "      <td>FOODS</td>\n",
              "      <td>4443.71</td>\n",
              "      <td>TX_1_FOODS</td>\n",
              "      <td>0</td>\n",
              "      <td>NaN</td>\n",
              "    </tr>\n",
              "    <tr>\n",
              "      <th>22</th>\n",
              "      <td>2016-03-22</td>\n",
              "      <td>TX_1</td>\n",
              "      <td>FOODS</td>\n",
              "      <td>4567.34</td>\n",
              "      <td>TX_1_FOODS</td>\n",
              "      <td>1</td>\n",
              "      <td>NaN</td>\n",
              "    </tr>\n",
              "    <tr>\n",
              "      <th>23</th>\n",
              "      <td>2016-03-23</td>\n",
              "      <td>TX_1</td>\n",
              "      <td>FOODS</td>\n",
              "      <td>4571.37</td>\n",
              "      <td>TX_1_FOODS</td>\n",
              "      <td>2</td>\n",
              "      <td>NaN</td>\n",
              "    </tr>\n",
              "    <tr>\n",
              "      <th>24</th>\n",
              "      <td>2016-03-24</td>\n",
              "      <td>TX_1</td>\n",
              "      <td>FOODS</td>\n",
              "      <td>3964.71</td>\n",
              "      <td>TX_1_FOODS</td>\n",
              "      <td>3</td>\n",
              "      <td>NaN</td>\n",
              "    </tr>\n",
              "    <tr>\n",
              "      <th>25</th>\n",
              "      <td>2016-03-25</td>\n",
              "      <td>TX_1</td>\n",
              "      <td>FOODS</td>\n",
              "      <td>5708.25</td>\n",
              "      <td>TX_1_FOODS</td>\n",
              "      <td>4</td>\n",
              "      <td>NaN</td>\n",
              "    </tr>\n",
              "    <tr>\n",
              "      <th>26</th>\n",
              "      <td>2016-03-26</td>\n",
              "      <td>TX_1</td>\n",
              "      <td>FOODS</td>\n",
              "      <td>6306.97</td>\n",
              "      <td>TX_1_FOODS</td>\n",
              "      <td>5</td>\n",
              "      <td>NaN</td>\n",
              "    </tr>\n",
              "    <tr>\n",
              "      <th>27</th>\n",
              "      <td>2016-03-27</td>\n",
              "      <td>TX_1</td>\n",
              "      <td>FOODS</td>\n",
              "      <td>7966.05</td>\n",
              "      <td>TX_1_FOODS</td>\n",
              "      <td>6</td>\n",
              "      <td>NaN</td>\n",
              "    </tr>\n",
              "  </tbody>\n",
              "</table>\n",
              "</div>\n",
              "      <button class=\"colab-df-convert\" onclick=\"convertToInteractive('df-c5ef08bd-1ef3-4b98-b9f6-78736055b7d9')\"\n",
              "              title=\"Convert this dataframe to an interactive table.\"\n",
              "              style=\"display:none;\">\n",
              "        \n",
              "  <svg xmlns=\"http://www.w3.org/2000/svg\" height=\"24px\"viewBox=\"0 0 24 24\"\n",
              "       width=\"24px\">\n",
              "    <path d=\"M0 0h24v24H0V0z\" fill=\"none\"/>\n",
              "    <path d=\"M18.56 5.44l.94 2.06.94-2.06 2.06-.94-2.06-.94-.94-2.06-.94 2.06-2.06.94zm-11 1L8.5 8.5l.94-2.06 2.06-.94-2.06-.94L8.5 2.5l-.94 2.06-2.06.94zm10 10l.94 2.06.94-2.06 2.06-.94-2.06-.94-.94-2.06-.94 2.06-2.06.94z\"/><path d=\"M17.41 7.96l-1.37-1.37c-.4-.4-.92-.59-1.43-.59-.52 0-1.04.2-1.43.59L10.3 9.45l-7.72 7.72c-.78.78-.78 2.05 0 2.83L4 21.41c.39.39.9.59 1.41.59.51 0 1.02-.2 1.41-.59l7.78-7.78 2.81-2.81c.8-.78.8-2.07 0-2.86zM5.41 20L4 18.59l7.72-7.72 1.47 1.35L5.41 20z\"/>\n",
              "  </svg>\n",
              "      </button>\n",
              "      \n",
              "  <style>\n",
              "    .colab-df-container {\n",
              "      display:flex;\n",
              "      flex-wrap:wrap;\n",
              "      gap: 12px;\n",
              "    }\n",
              "\n",
              "    .colab-df-convert {\n",
              "      background-color: #E8F0FE;\n",
              "      border: none;\n",
              "      border-radius: 50%;\n",
              "      cursor: pointer;\n",
              "      display: none;\n",
              "      fill: #1967D2;\n",
              "      height: 32px;\n",
              "      padding: 0 0 0 0;\n",
              "      width: 32px;\n",
              "    }\n",
              "\n",
              "    .colab-df-convert:hover {\n",
              "      background-color: #E2EBFA;\n",
              "      box-shadow: 0px 1px 2px rgba(60, 64, 67, 0.3), 0px 1px 3px 1px rgba(60, 64, 67, 0.15);\n",
              "      fill: #174EA6;\n",
              "    }\n",
              "\n",
              "    [theme=dark] .colab-df-convert {\n",
              "      background-color: #3B4455;\n",
              "      fill: #D2E3FC;\n",
              "    }\n",
              "\n",
              "    [theme=dark] .colab-df-convert:hover {\n",
              "      background-color: #434B5C;\n",
              "      box-shadow: 0px 1px 3px 1px rgba(0, 0, 0, 0.15);\n",
              "      filter: drop-shadow(0px 1px 2px rgba(0, 0, 0, 0.3));\n",
              "      fill: #FFFFFF;\n",
              "    }\n",
              "  </style>\n",
              "\n",
              "      <script>\n",
              "        const buttonEl =\n",
              "          document.querySelector('#df-c5ef08bd-1ef3-4b98-b9f6-78736055b7d9 button.colab-df-convert');\n",
              "        buttonEl.style.display =\n",
              "          google.colab.kernel.accessAllowed ? 'block' : 'none';\n",
              "\n",
              "        async function convertToInteractive(key) {\n",
              "          const element = document.querySelector('#df-c5ef08bd-1ef3-4b98-b9f6-78736055b7d9');\n",
              "          const dataTable =\n",
              "            await google.colab.kernel.invokeFunction('convertToInteractive',\n",
              "                                                     [key], {});\n",
              "          if (!dataTable) return;\n",
              "\n",
              "          const docLinkHtml = 'Like what you see? Visit the ' +\n",
              "            '<a target=\"_blank\" href=https://colab.research.google.com/notebooks/data_table.ipynb>data table notebook</a>'\n",
              "            + ' to learn more about interactive tables.';\n",
              "          element.innerHTML = '';\n",
              "          dataTable['output_type'] = 'display_data';\n",
              "          await google.colab.output.renderOutput(dataTable, element);\n",
              "          const docLink = document.createElement('div');\n",
              "          docLink.innerHTML = docLinkHtml;\n",
              "          element.appendChild(docLink);\n",
              "        }\n",
              "      </script>\n",
              "    </div>\n",
              "  </div>\n",
              "  "
            ]
          },
          "metadata": {},
          "execution_count": 115
        }
      ]
    },
    {
      "cell_type": "code",
      "execution_count": null,
      "metadata": {
        "id": "4LFZ16iVmThW"
      },
      "outputs": [],
      "source": [
        "# plot Prophet predictions against actual sales\n",
        "sns.lineplot(data = test_df, x = 'date' )"
      ]
    },
    {
      "cell_type": "markdown",
      "metadata": {
        "id": "K4go6KgDmThZ"
      },
      "source": [
        "There are some key [hyperparameters](https://facebook.github.io/prophet/docs/trend_changepoints.html#automatic-changepoint-detection-in-prophet) of the Prophet model that we can tune. In our case, we shall experiment with 2 key hyperparameters:\n",
        "1. changepoint_range\n",
        "2. changepoint_prior_scale\n",
        "\n",
        "Recall the nested walk-forward validation strategy where we will use the validation set to determine our optimal hyperparameters first before fitting the model on both the training and validation set to evaluate on test data.\n",
        "\n",
        "![Walk Forward Validation](https://s3.ap-southeast-1.amazonaws.com/www.jiahao.io/manning/walk_forward_validation.png)"
      ]
    },
    {
      "cell_type": "markdown",
      "metadata": {
        "id": "2d9Z-NwymThZ"
      },
      "source": [
        "<ins>Instructions</ins>:<br>\n",
        "- Setup a function to implement grid search that will return the optimal hyperparameters and the corresponding weighted MAE score. For our hyperparameters, we shall use \n",
        "    - 'changepoint_range': [0.8, 0.9]\n",
        "    - 'changepoint_prior_scale': [0.05, 0.1, 0.3]"
      ]
    },
    {
      "cell_type": "markdown",
      "metadata": {
        "id": "8INI66YoDv00"
      },
      "source": [
        "<ins>Hints</ins> (click when needed):<br>\n",
        "- Use example of [hyperparameter tuning](https://facebook.github.io/prophet/docs/diagnostics.html#hyperparameter-tuning) from Prophet's documentation as reference\n",
        "- [Refer to the section on \"Adjusting trend flexibility\" to understand how `changepoint_prior_scale` affects the model](https://facebook.github.io/prophet/docs/trend_changepoints.html#adjusting-trend-flexibility)\n"
      ]
    },
    {
      "cell_type": "code",
      "execution_count": null,
      "metadata": {
        "id": "FwcL2nk1mThZ"
      },
      "outputs": [],
      "source": [
        "# Function to implement grid search with the Prophet model and return optimal hyperparameters\n",
        "def grid_search_prophet(cv=3):\n",
        "    \"\"\"\n",
        "    Implement grid search with the Prophet model and return optimal hyperparameters and weighted MAE\n",
        "    \"\"\"\n",
        "    \n",
        "    \n",
        "    return "
      ]
    },
    {
      "cell_type": "code",
      "execution_count": null,
      "metadata": {
        "id": "0jDsLvGEDv02"
      },
      "outputs": [],
      "source": [
        "# Execute function to run grid search\n"
      ]
    },
    {
      "cell_type": "markdown",
      "metadata": {
        "id": "E_rk_O2bmThc"
      },
      "source": [
        "Great, now we have our optimal hyperparameters. For our last step, we shall evaluate our Prophet model with the optimal hyperparameters. Needless to say, our Prophet model should be better than the sNaive model.\n",
        "\n",
        "Ps: After all the evaluations are done, remember to set predictions on Christmas to 0."
      ]
    },
    {
      "cell_type": "markdown",
      "metadata": {
        "id": "qcB9ckuymThe"
      },
      "source": [
        "<ins>Instructions</ins>:<br>\n",
        "- Evaluate Prophet model with optimal hyperparameters by computing the 3-split cross-validated weighted MAE and weighted MAPE on the test data\n",
        "- Compare your results against the sNaive baseline results"
      ]
    },
    {
      "cell_type": "code",
      "execution_count": null,
      "metadata": {
        "id": "1iU-2pjYmThf"
      },
      "outputs": [],
      "source": [
        "# compute weighted MAE for Prophet predictions\n"
      ]
    },
    {
      "cell_type": "code",
      "execution_count": null,
      "metadata": {
        "id": "PuSLYK4jmThf"
      },
      "outputs": [],
      "source": [
        "# compute weighted MAPE for Prophet predictions\n"
      ]
    },
    {
      "cell_type": "markdown",
      "metadata": {
        "id": "nEdKyj7vmThg"
      },
      "source": [
        "## Conclusion"
      ]
    },
    {
      "cell_type": "markdown",
      "metadata": {
        "id": "0ziOpDCOmThg"
      },
      "source": [
        "Great job on completing this last Milestone. With that, you have completed the liveProject and learnt to:\n",
        "- Process and clean a time series data\n",
        "- Analyse time series and determine seasonality\n",
        "- Train-test split time series data using nested walk-forward validation\n",
        "- Establish baseline models and optimize Prophet model\n",
        "- Evaluate various models using weighted MAE and MAPE\n",
        "\n",
        "That's quite an accomplishment so give yourself a pat on the back.\n",
        "\n",
        "In the next liveProject of this series, we shall investigate the use of deep learning models for forecasting. Hope to see you there :)"
      ]
    }
  ],
  "metadata": {
    "colab": {
      "collapsed_sections": [],
      "name": "Prepare_and_Analyze_Time_Series_Milestone_3_Workflow.ipynb",
      "provenance": [],
      "include_colab_link": true
    },
    "interpreter": {
      "hash": "b7bc2e76cbe5fb8595f4ba211d5aadd6fa3b8e13e3681bdb0f26937058245569"
    },
    "kernelspec": {
      "display_name": "Python 3",
      "language": "python",
      "name": "python3"
    },
    "language_info": {
      "codemirror_mode": {
        "name": "ipython",
        "version": 3
      },
      "file_extension": ".py",
      "mimetype": "text/x-python",
      "name": "python",
      "nbconvert_exporter": "python",
      "pygments_lexer": "ipython3",
      "version": "3.6.10"
    }
  },
  "nbformat": 4,
  "nbformat_minor": 0
}