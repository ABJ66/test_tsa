{
 "cells": [
  {
   "cell_type": "markdown",
   "metadata": {
    "id": "KxQpw7SxXf8z"
   },
   "source": [
    "# Prepare and Analyze Time Series - Milestone 1"
   ]
  },
  {
   "cell_type": "markdown",
   "metadata": {
    "id": "nKbgeyIwXf9A"
   },
   "source": [
    "This Jupyter notebook serves as a guided workflow to Milestone 1 of the liveProject on End-to-end Time Series Forecasting with Deep Learning.\n",
    "\n",
    "You can upload this notebook to Colab and work from there. Alternatively, you can also work on this notebook in your local environment."
   ]
  },
  {
   "cell_type": "markdown",
   "metadata": {
    "id": "ukllI4csXf9Z"
   },
   "source": [
    "Our aim in this Milestone is to perform preliminary data processing and cleaning to have preprocessed data ready, as shown by the red dotted box in the diagram below."
   ]
  },
  {
   "cell_type": "markdown",
   "metadata": {
    "id": "1rpLnPJCXf9p"
   },
   "source": [
    "![Milestone 1](https://s3.ap-southeast-1.amazonaws.com/www.jiahao.io/manning/project1_milestone_1.png)"
   ]
  },
  {
   "cell_type": "markdown",
   "metadata": {
    "id": "LFQ8osYJXf95"
   },
   "source": [
    "## Importing Necessary Libraries and Functions"
   ]
  },
  {
   "cell_type": "markdown",
   "metadata": {
    "id": "g2aVi20nXf98"
   },
   "source": [
    "Let us first import the necessary libraries and load the data that we will be working with throughout this Milestone.  \n",
    "\n",
    "The data (data/sales.csv) that we are using is a daily retail sales dataset modified from the [M5 competition data](https://www.kaggle.com/c/m5-forecasting-accuracy/data). \n",
    "\n",
    "In this liveProject, you are a data scientist at a large retailer and your challenge is to forecast the sales of the respective stores by each category for the next 28 days."
   ]
  },
  {
   "cell_type": "markdown",
   "metadata": {
    "id": "InkTNb8CXf-R"
   },
   "source": [
    "<ins>Instructions</ins>:<br>\n",
    "- We have written the code to import the libraries so you can just run it as-is. If you need other libraries while working on this notebook, please feel free to add the library to this cell below."
   ]
  },
  {
   "cell_type": "code",
   "execution_count": 1,
   "metadata": {
    "id": "wgcjBeLdXf-v"
   },
   "outputs": [],
   "source": [
    "RunningInCOLAB = 'google.colab' in str(get_ipython())\n",
    "\n",
    "# import necessary libraries\n",
    "import pandas as pd\n",
    "import numpy as np\n",
    "import matplotlib.pyplot as plt\n",
    "from scipy import signal\n",
    "\n",
    "%matplotlib inline\n",
    "\n",
    "# suppress pandas SettingWithCopyWarning \n",
    "pd.options.mode.chained_assignment = None"
   ]
  },
  {
   "cell_type": "markdown",
   "metadata": {
    "id": "pyOzqMQRXf_E"
   },
   "source": [
    "## Previewing the Sales Data"
   ]
  },
  {
   "cell_type": "markdown",
   "metadata": {
    "id": "suMJVf0kXf_s"
   },
   "source": [
    "Let us first have a preview of the data to understand what we will be working with."
   ]
  },
  {
   "cell_type": "markdown",
   "metadata": {
    "id": "Qwo36BzbXf_y"
   },
   "source": [
    "<ins>Instructions</ins>:<br>\n",
    "- Read in the data *sales.csv* from the data folder into a pandas dataframe and preview the first 5 rows.\n",
    "\n",
    "<ins>Note</ins>:<br>\n",
    "- If you are running this notebook in Colab, please upload *sales.csv* from the data folder."
   ]
  },
  {
   "cell_type": "markdown",
   "metadata": {
    "id": "r_m5QN6KY3rQ"
   },
   "source": [
    "<ins>Hints</ins> (click when needed):<br>\n",
    "- [Follow the example code here to upload files to Colab from your local file system](https://colab.research.google.com/notebooks/io.ipynb)\n",
    "- [Use Pandas `read_csv` function to load CSV data](https://pandas.pydata.org/pandas-docs/stable/reference/api/pandas.read_csv.html)\n",
    "- [Use Pandas `head` method to preview first 5 rows of dataframe `df`](https://pandas.pydata.org/docs/reference/api/pandas.DataFrame.head.html) "
   ]
  },
  {
   "cell_type": "code",
   "execution_count": 2,
   "metadata": {
    "id": "51d9EUZHdac_"
   },
   "outputs": [],
   "source": [
    "# upload file from Colab\n",
    "sales_df = pd.read_csv('sales.csv')"
   ]
  },
  {
   "cell_type": "code",
   "execution_count": 3,
   "metadata": {
    "colab": {
     "base_uri": "https://localhost:8080/",
     "height": 206
    },
    "id": "7RpizKlwXf_1",
    "outputId": "198321d8-ab25-4d7d-e433-f7ba4a2ff9cf"
   },
   "outputs": [
    {
     "data": {
      "text/html": [
       "<div>\n",
       "<style scoped>\n",
       "    .dataframe tbody tr th:only-of-type {\n",
       "        vertical-align: middle;\n",
       "    }\n",
       "\n",
       "    .dataframe tbody tr th {\n",
       "        vertical-align: top;\n",
       "    }\n",
       "\n",
       "    .dataframe thead th {\n",
       "        text-align: right;\n",
       "    }\n",
       "</style>\n",
       "<table border=\"1\" class=\"dataframe\">\n",
       "  <thead>\n",
       "    <tr style=\"text-align: right;\">\n",
       "      <th></th>\n",
       "      <th>date</th>\n",
       "      <th>store_id</th>\n",
       "      <th>cat_id</th>\n",
       "      <th>sales</th>\n",
       "    </tr>\n",
       "  </thead>\n",
       "  <tbody>\n",
       "    <tr>\n",
       "      <th>0</th>\n",
       "      <td>2011-01-29</td>\n",
       "      <td>TX_1</td>\n",
       "      <td>FOODS</td>\n",
       "      <td>3950.35</td>\n",
       "    </tr>\n",
       "    <tr>\n",
       "      <th>1</th>\n",
       "      <td>2011-01-30</td>\n",
       "      <td>TX_1</td>\n",
       "      <td>FOODS</td>\n",
       "      <td>3844.97</td>\n",
       "    </tr>\n",
       "    <tr>\n",
       "      <th>2</th>\n",
       "      <td>2011-01-31</td>\n",
       "      <td>TX_1</td>\n",
       "      <td>FOODS</td>\n",
       "      <td>2888.03</td>\n",
       "    </tr>\n",
       "    <tr>\n",
       "      <th>3</th>\n",
       "      <td>2011-02-01</td>\n",
       "      <td>TX_1</td>\n",
       "      <td>FOODS</td>\n",
       "      <td>3631.28</td>\n",
       "    </tr>\n",
       "    <tr>\n",
       "      <th>4</th>\n",
       "      <td>2011-02-02</td>\n",
       "      <td>TX_1</td>\n",
       "      <td>FOODS</td>\n",
       "      <td>3072.18</td>\n",
       "    </tr>\n",
       "  </tbody>\n",
       "</table>\n",
       "</div>"
      ],
      "text/plain": [
       "         date store_id cat_id    sales\n",
       "0  2011-01-29     TX_1  FOODS  3950.35\n",
       "1  2011-01-30     TX_1  FOODS  3844.97\n",
       "2  2011-01-31     TX_1  FOODS  2888.03\n",
       "3  2011-02-01     TX_1  FOODS  3631.28\n",
       "4  2011-02-02     TX_1  FOODS  3072.18"
      ]
     },
     "execution_count": 3,
     "metadata": {},
     "output_type": "execute_result"
    }
   ],
   "source": [
    "# load data and view first 5 rows\n",
    "sales_df.head()"
   ]
  },
  {
   "cell_type": "markdown",
   "metadata": {
    "id": "EgFpkzJKXgAC"
   },
   "source": [
    "You should see from the data preview that there are 4 columns with ~58k rows. The daily sales (column: `sales`) for each store (column: `store_id`) and category (column: `cat_id`) are listed in each row. \n",
    "\n",
    "If we generate the unique value count of the `store_id` and `cat_id`, we will see that there are 10 stores and 3 categories. Each store and category group is a time series, so we have 30 time series."
   ]
  },
  {
   "cell_type": "markdown",
   "metadata": {
    "id": "2frgYX0sXgAK"
   },
   "source": [
    "<ins>Instruction</ins>:<br>\n",
    "- Verify the number of unique values of `store_id` and `cat_id` each."
   ]
  },
  {
   "cell_type": "markdown",
   "metadata": {
    "id": "YyD5LtD6Y3rT"
   },
   "source": [
    "<ins>Hints</ins>:<br>\n",
    "- [Pandas `nunique` method can be used to verify number of unique values](https://pandas.pydata.org/docs/reference/api/pandas.Series.nunique.html)"
   ]
  },
  {
   "cell_type": "code",
   "execution_count": 4,
   "metadata": {
    "colab": {
     "base_uri": "https://localhost:8080/"
    },
    "id": "iIdivPdbXgAO",
    "outputId": "5b7e6ef3-68e4-4d9b-c5f8-ca01967bca96"
   },
   "outputs": [
    {
     "name": "stdout",
     "output_type": "stream",
     "text": [
      "Total unique stores in sales_df are: 10\n",
      "Total unique categories in sales_df are: 3\n"
     ]
    }
   ],
   "source": [
    "# unique count of store_id and cat_id\n",
    "print(f\"Total unique stores in sales_df are: {sales_df['store_id'].nunique()}\")\n",
    "print(f\"Total unique categories in sales_df are: {sales_df['cat_id'].nunique()}\")"
   ]
  },
  {
   "cell_type": "markdown",
   "metadata": {
    "id": "2eTQF41fXgAP"
   },
   "source": [
    "And in terms of the time period, our sales data start from 2011 to 2016. We also set the `date` column to datetime format."
   ]
  },
  {
   "cell_type": "markdown",
   "metadata": {
    "id": "MsxRVz_WXgAP"
   },
   "source": [
    "<ins>Instructions</ins>:<br>\n",
    "- Verify the date range of the `sales` data"
   ]
  },
  {
   "cell_type": "markdown",
   "metadata": {
    "id": "j60OSh53Y3rW"
   },
   "source": [
    "<ins>Hints</ins> (click when needed):<br>\n",
    "- [Use Pandas `to_datetime` function to convert dates in string format to datetime format](https://pandas.pydata.org/docs/reference/api/pandas.to_datetime.html)"
   ]
  },
  {
   "cell_type": "markdown",
   "metadata": {
    "id": "k2xEq1CJY3rW"
   },
   "source": []
  },
  {
   "cell_type": "code",
   "execution_count": 5,
   "metadata": {
    "colab": {
     "base_uri": "https://localhost:8080/"
    },
    "id": "3BvS02bhaOfN",
    "outputId": "6992064b-46a6-4715-8264-f18fe15cb38f"
   },
   "outputs": [
    {
     "data": {
      "text/plain": [
       "dtype('O')"
      ]
     },
     "execution_count": 5,
     "metadata": {},
     "output_type": "execute_result"
    }
   ],
   "source": [
    "sales_df['date'].dtype"
   ]
  },
  {
   "cell_type": "code",
   "execution_count": 6,
   "metadata": {
    "colab": {
     "base_uri": "https://localhost:8080/"
    },
    "id": "3W24zZBJXgAS",
    "outputId": "7e5f4643-f383-44f6-bda7-77c74bd49875"
   },
   "outputs": [
    {
     "name": "stdout",
     "output_type": "stream",
     "text": [
      "2016-05-22 00:00:00\n",
      "2011-01-29 00:00:00\n"
     ]
    }
   ],
   "source": [
    "# verify max and min date\n",
    "sales_df['date'] = pd.to_datetime(sales_df['date'])\n",
    "print(sales_df['date'].max())\n",
    "print(sales_df['date'].min())"
   ]
  },
  {
   "cell_type": "markdown",
   "metadata": {
    "id": "uVCHVEk2XgAU"
   },
   "source": [
    "## Processing of Data"
   ]
  },
  {
   "cell_type": "markdown",
   "metadata": {
    "id": "OY73d0TwXgAW"
   },
   "source": [
    "There are 3 common data quality issues to check for time series data:\n",
    "1. Irregular time series\n",
    "2. Outliers\n",
    "3. Missing data"
   ]
  },
  {
   "cell_type": "markdown",
   "metadata": {
    "id": "J65pQVGjXgAX"
   },
   "source": [
    "### Data quality issue - Irregular time series"
   ]
  },
  {
   "cell_type": "markdown",
   "metadata": {
    "id": "CZABUkISXgAb"
   },
   "source": [
    "In our case, our sales data is of daily frequency. However, the data may possibly miss out some dates (see point 1 in image below) or added more rows for the same date (see point 2 in image below). Hence, we need to ensure that every date is accounted by exactly one row. \n",
    "\n",
    "For the scenario of point 2 in image below, we will also need to check with the data owner on the proper treatment, i.e., do we add up the sales of both rows to get sales for 2011-02-19 or do we just keep the row with time 00:00:00 because the data is a snapshot of sales? \n",
    "\n"
   ]
  },
  {
   "cell_type": "markdown",
   "metadata": {
    "id": "BP2_pHJlXgAe"
   },
   "source": [
    "![Irregular Time Series](https://s3.ap-southeast-1.amazonaws.com/www.jiahao.io/manning/irregular_time_period.PNG)"
   ]
  },
  {
   "cell_type": "markdown",
   "metadata": {
    "id": "nOkqWo8NXgAh"
   },
   "source": [
    "<ins>Instruction</ins>:<br>\n",
    "- Check for duplicated dates within a store and category group"
   ]
  },
  {
   "cell_type": "markdown",
   "metadata": {
    "id": "0JcrAI1VY3ra"
   },
   "source": [
    "<ins>Hints</ins> (click when needed):<br>\n",
    "- [Use Pandas `duplicated` method to check for duplicates](https://pandas.pydata.org/docs/reference/api/pandas.DataFrame.duplicated.html)"
   ]
  },
  {
   "cell_type": "code",
   "execution_count": 7,
   "metadata": {
    "colab": {
     "base_uri": "https://localhost:8080/"
    },
    "id": "EOXmTQmob4rH",
    "outputId": "b2a03675-9f52-4003-c8e1-b3a23817a43b"
   },
   "outputs": [
    {
     "data": {
      "text/plain": [
       "58230"
      ]
     },
     "execution_count": 7,
     "metadata": {},
     "output_type": "execute_result"
    }
   ],
   "source": [
    "sales_df.shape[0]"
   ]
  },
  {
   "cell_type": "code",
   "execution_count": 8,
   "metadata": {
    "colab": {
     "base_uri": "https://localhost:8080/"
    },
    "id": "blVp1mJQXgAh",
    "outputId": "ab4cb30c-dec2-4e98-a01a-c47cc3676770"
   },
   "outputs": [
    {
     "data": {
      "text/plain": [
       "0"
      ]
     },
     "execution_count": 8,
     "metadata": {},
     "output_type": "execute_result"
    }
   ],
   "source": [
    "# check for duplicate dates within a store and category group\n",
    "sales_df.duplicated(subset=['date', 'store_id', 'cat_id']).sum()"
   ]
  },
  {
   "cell_type": "markdown",
   "metadata": {
    "id": "0XI1kbceXgAh"
   },
   "source": [
    "You should find that there is no duplicated date in a store and category group.\n",
    "\n",
    "Next let's try to see if there is missing date in between the start and end date of sales."
   ]
  },
  {
   "cell_type": "markdown",
   "metadata": {
    "id": "dV5FvTHZXgAj"
   },
   "source": [
    "<ins>Instructions</ins>:<br>\n",
    "- Generate dataframe with the daily dates in between the start and end dates of sales. Then check if there is any missing date(s) in between."
   ]
  },
  {
   "cell_type": "markdown",
   "metadata": {
    "id": "x0LRVd2ZY3rc"
   },
   "source": [
    "<ins>Hints</ins> (click when needed):<br>\n",
    "- [Use Pandas `date_range` function to generate dates in a specified time period](https://pandas.pydata.org/docs/reference/api/pandas.date_range.html)"
   ]
  },
  {
   "cell_type": "code",
   "execution_count": 9,
   "metadata": {
    "id": "aGKWR8WJcRs4"
   },
   "outputs": [],
   "source": [
    "assert(sales_df['date'].nunique() == len(pd.date_range(start = sales_df['date'].min(), end = sales_df['date'].max(), freq = 'D')))"
   ]
  },
  {
   "cell_type": "code",
   "execution_count": 10,
   "metadata": {
    "id": "oN3rW5tQXgAk"
   },
   "outputs": [],
   "source": [
    "# generate daily dates between the start and end of sales\n",
    "# merge the dates dataframe with sales dataframe to check for missing dates\n",
    "daily_dates_df = pd.DataFrame(pd.date_range(start = sales_df['date'].min(), end = sales_df['date'].max(), freq = 'D'), columns = ['date_ref'])\n",
    "test_missing_dates_df = pd.merge(daily_dates_df, sales_df, left_on = \"date_ref\", right_on = \"date\", how = \"left\", indicator = True)\n",
    "assert(test_missing_dates_df['_merge'].unique()[0] == \"both\") # if the only single value is 'both' it indicates that there are no missing dates"
   ]
  },
  {
   "cell_type": "markdown",
   "metadata": {
    "id": "GkGFqL45XgAq"
   },
   "source": [
    "Luckily for us, there is no missing date in between. If there is any, the `sales` value will be null and we can impute them later."
   ]
  },
  {
   "cell_type": "markdown",
   "metadata": {
    "id": "f4QX3N2nXgAq"
   },
   "source": [
    "### Data quality issue - Outliers"
   ]
  },
  {
   "cell_type": "markdown",
   "metadata": {
    "id": "oI1__BtdXgAr"
   },
   "source": [
    "There are various ways to check for outliers in time series. Here, we use the Interquartile Range (IQR) method mentioned in the book [Forecasting: Principles and Practice](https://otexts.com/fpp3/missing-outliers.html) by Rob J Hyndman and George Athanasopoulos. However, we modified the method a little by detrending the time series first before applying the IQR method."
   ]
  },
  {
   "cell_type": "markdown",
   "metadata": {
    "id": "NROlj05RXgAu"
   },
   "source": [
    "<ins>Instructions</ins>:<br>\n",
    "- Code the IQR method and implement it on the sales data. Take care to check for outliers by each store and category group. The sales dataframe should have a column named `anomaly` that will indicate each outlier as True and non-outliers as False.\n",
    "- Detrend the sales by each time series (i.e., each store and category group) before applying the IQR method."
   ]
  },
  {
   "cell_type": "markdown",
   "metadata": {
    "id": "cGFRzZ1oY3rd"
   },
   "source": [
    "<ins>Hints</ins> (click when needed):<br>\n",
    "- [Use Pandas `quantile` method to get the quantiles values](https://pandas.pydata.org/docs/reference/api/pandas.Series.quantile.html)\n",
    "- [Scipy `detrend` can be used to detrend the time series before applying IQR method](https://docs.scipy.org/doc/scipy/reference/generated/scipy.signal.detrend.html)"
   ]
  },
  {
   "cell_type": "code",
   "execution_count": null,
   "metadata": {},
   "outputs": [],
   "source": [
    "# 1. detrend then 2. outlier_detection"
   ]
  },
  {
   "cell_type": "code",
   "execution_count": 11,
   "metadata": {
    "id": "ZybpSj5otG1m"
   },
   "outputs": [],
   "source": [
    "# first group by store_id and cat_id then apply signal.detrend on each group\n",
    "g = sales_df.groupby(['store_id', 'cat_id']) # correct & reuse\n",
    "sales_df['sales'] = g['sales'].transform(signal.detrend) # correct & reuse"
   ]
  },
  {
   "cell_type": "code",
   "execution_count": 12,
   "metadata": {
    "id": "eap5QdmBXgAv"
   },
   "outputs": [],
   "source": [
    "# outlier detection function\n",
    "def outlier_detection(df):\n",
    "    \"\"\"\n",
    "    Add column 'anomaly' to dataframe to mark outliers as True, non-outliers as False. \n",
    "    \"\"\"\n",
    "    df[\"anomaly\"] = True\n",
    "    g = df.groupby(['store_id', 'cat_id'])\n",
    "    for grp in list(g.groups.keys()):\n",
    "        q_25 = g.get_group(grp)['sales'].quantile(0.25)\n",
    "        q_75 = g.get_group(grp)['sales'].quantile(0.75)\n",
    "        iqr = q_75 - q_25\n",
    "        ll = q_25 - 1.5*iqr\n",
    "        ul = q_75 + 1.5*iqr\n",
    "        #g.get_group(grp)[\"anomaly\"] = np.where((g.get_group(grp)['sales'] < ll) | (g.get_group(grp)['sales'] > ul), True, False).tolist() - does not work?\n",
    "        df.loc[g.groups[grp], \"anomaly\"] = np.where((g.get_group(grp)['sales'] < ll) | (g.get_group(grp)['sales'] > ul), True, False)\n",
    "\n",
    "    return df\n",
    "\n",
    "# execute outlier detection function for each time series\n",
    "sales_df2 = outlier_detection(sales_df)"
   ]
  },
  {
   "cell_type": "code",
   "execution_count": 13,
   "metadata": {},
   "outputs": [
    {
     "data": {
      "text/plain": [
       "store_id  cat_id     anomaly\n",
       "CA_1      FOODS      False      1930\n",
       "                     True         11\n",
       "          HOBBIES    False      1909\n",
       "                     True         32\n",
       "          HOUSEHOLD  False      1924\n",
       "                     True         17\n",
       "CA_2      FOODS      False      1867\n",
       "                     True         74\n",
       "          HOBBIES    False      1898\n",
       "                     True         43\n",
       "Name: anomaly, dtype: int64"
      ]
     },
     "execution_count": 13,
     "metadata": {},
     "output_type": "execute_result"
    }
   ],
   "source": [
    "sales_df2.groupby([\"store_id\", \"cat_id\"])[\"anomaly\"].value_counts().head(10)"
   ]
  },
  {
   "cell_type": "markdown",
   "metadata": {
    "id": "fNxynZStXgAw"
   },
   "source": [
    "Let's take a look at how our outlier detection method performs.\n",
    "\n",
    "In general, the method is able to capture most of the outliers (as seen from the diagrams below) that our human judgement would also determine to be outlying points. There are some outlying points that were missed out but we shall see in a while what these points may be and we can manually mark them as outlier if necessary.\n",
    "\n",
    "We also noticed that some of the points towards the tail end of the time series for the store *CA_2* and category *FOODS* seem to be wrongly marked as outliers. We can unmark these points as well."
   ]
  },
  {
   "cell_type": "markdown",
   "metadata": {
    "id": "GLM25GqbXgAw"
   },
   "source": [
    "<ins>Instructions</ins>:<br>\n",
    "- Visualize the outliers identified by overlaying them on a sales line plot. An example plot is as shown below.\n",
    "\n",
    "![Sales Line Plot with Outliers Example](https://s3.ap-southeast-1.amazonaws.com/www.jiahao.io/manning/sales_line_plot_w_outliers.png)\n"
   ]
  },
  {
   "cell_type": "markdown",
   "metadata": {
    "id": "zAaxi49GY3re"
   },
   "source": [
    "<ins>Hints</ins> (click when needed):<br>\n",
    "- [Use Matplotlib `plot` function to draw a line plot](https://matplotlib.org/stable/api/_as_gen/matplotlib.pyplot.plot.html)"
   ]
  },
  {
   "cell_type": "code",
   "execution_count": 14,
   "metadata": {
    "id": "8Gq-KS8RXgAw"
   },
   "outputs": [
    {
     "data": {
      "image/png": "[encoded data removed]",
      "text/plain": [
       "<Figure size 432x288 with 1 Axes>"
      ]
     },
     "metadata": {
      "needs_background": "light"
     },
     "output_type": "display_data"
    },
    {
     "data": {
      "text/plain": [
       "<Figure size 1440x720 with 0 Axes>"
      ]
     },
     "metadata": {},
     "output_type": "display_data"
    }
   ],
   "source": [
    "# sample one of the store category to see how our outlier detection performs\n",
    "def visualize_outliers(store, category):\n",
    "    # visualization of outliers detected\n",
    "    test_df = sales_df2.loc[(sales_df2[\"store_id\"] == store) & (sales_df2[\"cat_id\"] == category), [\"date\", \"sales\", \"anomaly\"]]\n",
    "    test_df_mark = test_df.loc[test_df[\"anomaly\"] == True]\n",
    "    plt.scatter(test_df_mark['date'], test_df_mark['sales'], color='red', label = 'anomaly')\n",
    "    plt.plot(test_df['date'], test_df['sales'], color= \"black\", label = 'normal')\n",
    "    plt.legend(loc = \"upper right\")\n",
    "    plt.title(f\"For Store: [{store}] & Category: [{category}]\")\n",
    "    plt.show()\n",
    "    plt.figure(figsize=(20,10))\n",
    "\n",
    "# sample one of the store category to see how our outlier detection performs\n",
    "visualize_outliers('CA_2', 'FOODS')"
   ]
  },
  {
   "cell_type": "markdown",
   "metadata": {
    "id": "nrruDzZnXgA5"
   },
   "source": [
    "We can unmark some of the points as outliers."
   ]
  },
  {
   "cell_type": "markdown",
   "metadata": {
    "id": "bW5jeivGXgA6"
   },
   "source": [
    "<ins>Instructions</ins>:<br>\n",
    "- If any of the \"outliers\" identified are incorrect, unmark them in your `anomaly` column."
   ]
  },
  {
   "cell_type": "code",
   "execution_count": 15,
   "metadata": {
    "id": "jH0MJe5RXgA6"
   },
   "outputs": [],
   "source": [
    "# unmark points as outliers\n",
    "sales_df2['anomaly'] = np.where((sales_df2[\"store_id\"]==\"CA_2\") & \n",
    "                                (sales_df2[\"cat_id\"] == \"FOODS\") & \n",
    "                                (sales_df2[\"date\"]>\"2015-07-01\"), False, sales_df['anomaly'])\n",
    "#df['mark'] = df.apply(lambda x: False if x.y==3 else x.mark, 1)"
   ]
  },
  {
   "cell_type": "markdown",
   "metadata": {
    "id": "UROc6NU8XgBS"
   },
   "source": [
    "It turns out that when we filter and zoom into those outlying points with sales very close to 0, they seem to generally occur on 25th Dec. Seems likely due to Christmas... Turns out when you spoke to the data owner, it was revealed that the stores close on Christmas hence the close to zero sales.\n",
    "\n",
    "Let's mark these as outliers for the time being although we will need to take care to set predicted sales on Christmas to zero later."
   ]
  },
  {
   "cell_type": "markdown",
   "metadata": {
    "id": "gGTAxRUYXgBT"
   },
   "source": [
    "<ins>Instructions</ins>:<br>\n",
    "- Mark any additional points as outliers if necessary in your `anomaly` column"
   ]
  },
  {
   "cell_type": "code",
   "execution_count": 16,
   "metadata": {
    "id": "fxNnxbfNXgBT"
   },
   "outputs": [],
   "source": [
    "# mark points as outliers\n",
    "sales_df2['anomaly'] = np.where((sales_df2[\"date\"].dt.month == 12) & \n",
    "                                (sales_df2[\"date\"].dt.day == 25), True, sales_df2['anomaly'])"
   ]
  },
  {
   "cell_type": "code",
   "execution_count": null,
   "metadata": {},
   "outputs": [],
   "source": []
  },
  {
   "cell_type": "markdown",
   "metadata": {
    "id": "bCvnu2wLXgBZ"
   },
   "source": [
    "Finally, we will need to set our outliers to null sales value. In reality, we should talk to the data owner to find out the reasons for these outliers and decide if they are legitimate data points (e.g. the Christmas points) or erroneous points.\n",
    "\n",
    "For the Christmas data points, they reflect the calendar effect and in some models, we can leave these data points as they are and add in covariates indicating these calendar effects into the model. However for us, we will be using univariate model and it would better for us to remove these calendar effects.\n",
    "\n",
    "Before we set the outliers to null sales value, we can check for other null sales values if any and perform imputation in our next data quality check."
   ]
  },
  {
   "cell_type": "markdown",
   "metadata": {
    "id": "TQfpdGnMXgBa"
   },
   "source": [
    "### Data quality issue - Missing data"
   ]
  },
  {
   "cell_type": "markdown",
   "metadata": {
    "id": "LImM5ssHXgBa"
   },
   "source": [
    "First let's check for missing sales value. Then we proceed to set outlier to null sales value as mentioned in previous data quality check. And finally perform imputation of sales."
   ]
  },
  {
   "cell_type": "markdown",
   "metadata": {
    "id": "NySUqAf-XgBa"
   },
   "source": [
    "<ins>Instructions</ins>:<br>\n",
    "- Check how many rows have missing sales value"
   ]
  },
  {
   "cell_type": "markdown",
   "metadata": {
    "id": "dex7iddSY3rh"
   },
   "source": [
    "<ins>Hints</ins> (click when needed):<br>\n",
    "- [Use Pandas `isna` method to check number of missing rows](https://pandas.pydata.org/docs/reference/api/pandas.Series.isna.html)"
   ]
  },
  {
   "cell_type": "code",
   "execution_count": 17,
   "metadata": {
    "id": "CRSmXPzGXgBa"
   },
   "outputs": [
    {
     "data": {
      "text/plain": [
       "0"
      ]
     },
     "execution_count": 17,
     "metadata": {},
     "output_type": "execute_result"
    }
   ],
   "source": [
    "# check number of rows with missing sales\n",
    "sales_df2.loc[sales_df2['sales'].isna(),:].shape[0]"
   ]
  },
  {
   "cell_type": "markdown",
   "metadata": {
    "id": "KnMG31okXgBb"
   },
   "source": [
    "Good, seems like no missing sales. Well in fact, we knew there's no missing sales when we were previewing the data. But this is just for procedure.\n",
    "\n",
    "Next we can set our outliers to null sales value."
   ]
  },
  {
   "cell_type": "markdown",
   "metadata": {
    "id": "wsH5-JJVXgBb"
   },
   "source": [
    "<ins>Instructions</ins>:<br>\n",
    "- Set outliers to null sales value"
   ]
  },
  {
   "cell_type": "code",
   "execution_count": 18,
   "metadata": {
    "id": "l65VabmGXgBd"
   },
   "outputs": [],
   "source": [
    "# set outlier to null sales value\n",
    "sales_df2.loc[sales_df2['anomaly']==True, 'sales'] = np.nan"
   ]
  },
  {
   "cell_type": "markdown",
   "metadata": {
    "id": "Gq4n9AUWXgBg"
   },
   "source": [
    "We can now proceed to impute the missing sales. In our case, we have no extended missing sales period and the number of data points with missing sales is little compared to the total number of data points. Hence, we shall adopt linear interpolation method.\n",
    "\n",
    "First, we need to set the `date`, `store_id` and `cat_id` columns as index."
   ]
  },
  {
   "cell_type": "markdown",
   "metadata": {
    "id": "qOnH3JOKXgBg"
   },
   "source": [
    "<ins>Instructions</ins>:<br>\n",
    "- Impute the missing sales using linear interpolation method."
   ]
  },
  {
   "cell_type": "markdown",
   "metadata": {
    "id": "_P3B1gxAY3rk"
   },
   "source": [
    "<ins>Hints</ins> (click when needed):<br>\n",
    "- [Use Pandas `interpolate` method to impute using linear interpolation method](https://pandas.pydata.org/docs/reference/api/pandas.DataFrame.interpolate.html)"
   ]
  },
  {
   "cell_type": "code",
   "execution_count": null,
   "metadata": {},
   "outputs": [],
   "source": [
    "sales_df2.columns"
   ]
  },
  {
   "cell_type": "code",
   "execution_count": 19,
   "metadata": {
    "id": "5uFodXDzXgBg"
   },
   "outputs": [
    {
     "data": {
      "text/html": [
       "<div>\n",
       "<style scoped>\n",
       "    .dataframe tbody tr th:only-of-type {\n",
       "        vertical-align: middle;\n",
       "    }\n",
       "\n",
       "    .dataframe tbody tr th {\n",
       "        vertical-align: top;\n",
       "    }\n",
       "\n",
       "    .dataframe thead th {\n",
       "        text-align: right;\n",
       "    }\n",
       "</style>\n",
       "<table border=\"1\" class=\"dataframe\">\n",
       "  <thead>\n",
       "    <tr style=\"text-align: right;\">\n",
       "      <th></th>\n",
       "      <th></th>\n",
       "      <th></th>\n",
       "      <th>sales</th>\n",
       "    </tr>\n",
       "    <tr>\n",
       "      <th>date</th>\n",
       "      <th>store_id</th>\n",
       "      <th>cat_id</th>\n",
       "      <th></th>\n",
       "    </tr>\n",
       "  </thead>\n",
       "  <tbody>\n",
       "    <tr>\n",
       "      <th>2011-01-29</th>\n",
       "      <th>TX_1</th>\n",
       "      <th>FOODS</th>\n",
       "      <td>-160.500963</td>\n",
       "    </tr>\n",
       "    <tr>\n",
       "      <th>2011-01-30</th>\n",
       "      <th>TX_1</th>\n",
       "      <th>FOODS</th>\n",
       "      <td>-266.532119</td>\n",
       "    </tr>\n",
       "    <tr>\n",
       "      <th>2011-01-31</th>\n",
       "      <th>TX_1</th>\n",
       "      <th>FOODS</th>\n",
       "      <td>-1224.123274</td>\n",
       "    </tr>\n",
       "    <tr>\n",
       "      <th>2011-02-01</th>\n",
       "      <th>TX_1</th>\n",
       "      <th>FOODS</th>\n",
       "      <td>-481.524430</td>\n",
       "    </tr>\n",
       "    <tr>\n",
       "      <th>2011-02-02</th>\n",
       "      <th>TX_1</th>\n",
       "      <th>FOODS</th>\n",
       "      <td>-1041.275586</td>\n",
       "    </tr>\n",
       "    <tr>\n",
       "      <th>2011-02-03</th>\n",
       "      <th>TX_1</th>\n",
       "      <th>FOODS</th>\n",
       "      <td>713.563258</td>\n",
       "    </tr>\n",
       "    <tr>\n",
       "      <th>2011-02-04</th>\n",
       "      <th>TX_1</th>\n",
       "      <th>FOODS</th>\n",
       "      <td>-1249.097898</td>\n",
       "    </tr>\n",
       "    <tr>\n",
       "      <th>2011-02-05</th>\n",
       "      <th>TX_1</th>\n",
       "      <th>FOODS</th>\n",
       "      <td>330.680946</td>\n",
       "    </tr>\n",
       "    <tr>\n",
       "      <th>2011-02-06</th>\n",
       "      <th>TX_1</th>\n",
       "      <th>FOODS</th>\n",
       "      <td>875.699791</td>\n",
       "    </tr>\n",
       "    <tr>\n",
       "      <th>2011-02-07</th>\n",
       "      <th>TX_1</th>\n",
       "      <th>FOODS</th>\n",
       "      <td>-565.461365</td>\n",
       "    </tr>\n",
       "    <tr>\n",
       "      <th>2011-02-08</th>\n",
       "      <th>TX_1</th>\n",
       "      <th>FOODS</th>\n",
       "      <td>-1426.702521</td>\n",
       "    </tr>\n",
       "    <tr>\n",
       "      <th>2011-02-09</th>\n",
       "      <th>TX_1</th>\n",
       "      <th>FOODS</th>\n",
       "      <td>-515.173677</td>\n",
       "    </tr>\n",
       "    <tr>\n",
       "      <th>2011-02-10</th>\n",
       "      <th>TX_1</th>\n",
       "      <th>FOODS</th>\n",
       "      <td>-885.374833</td>\n",
       "    </tr>\n",
       "    <tr>\n",
       "      <th>2011-02-11</th>\n",
       "      <th>TX_1</th>\n",
       "      <th>FOODS</th>\n",
       "      <td>-423.105989</td>\n",
       "    </tr>\n",
       "    <tr>\n",
       "      <th>2011-02-12</th>\n",
       "      <th>TX_1</th>\n",
       "      <th>FOODS</th>\n",
       "      <td>683.082855</td>\n",
       "    </tr>\n",
       "    <tr>\n",
       "      <th>2011-02-13</th>\n",
       "      <th>TX_1</th>\n",
       "      <th>FOODS</th>\n",
       "      <td>1696.741700</td>\n",
       "    </tr>\n",
       "    <tr>\n",
       "      <th>2011-02-14</th>\n",
       "      <th>TX_1</th>\n",
       "      <th>FOODS</th>\n",
       "      <td>-850.199456</td>\n",
       "    </tr>\n",
       "    <tr>\n",
       "      <th>2011-02-15</th>\n",
       "      <th>TX_1</th>\n",
       "      <th>FOODS</th>\n",
       "      <td>-262.220612</td>\n",
       "    </tr>\n",
       "    <tr>\n",
       "      <th>2011-02-16</th>\n",
       "      <th>TX_1</th>\n",
       "      <th>FOODS</th>\n",
       "      <td>-911.651768</td>\n",
       "    </tr>\n",
       "    <tr>\n",
       "      <th>2011-02-17</th>\n",
       "      <th>TX_1</th>\n",
       "      <th>FOODS</th>\n",
       "      <td>-1157.412924</td>\n",
       "    </tr>\n",
       "  </tbody>\n",
       "</table>\n",
       "</div>"
      ],
      "text/plain": [
       "                                  sales\n",
       "date       store_id cat_id             \n",
       "2011-01-29 TX_1     FOODS   -160.500963\n",
       "2011-01-30 TX_1     FOODS   -266.532119\n",
       "2011-01-31 TX_1     FOODS  -1224.123274\n",
       "2011-02-01 TX_1     FOODS   -481.524430\n",
       "2011-02-02 TX_1     FOODS  -1041.275586\n",
       "2011-02-03 TX_1     FOODS    713.563258\n",
       "2011-02-04 TX_1     FOODS  -1249.097898\n",
       "2011-02-05 TX_1     FOODS    330.680946\n",
       "2011-02-06 TX_1     FOODS    875.699791\n",
       "2011-02-07 TX_1     FOODS   -565.461365\n",
       "2011-02-08 TX_1     FOODS  -1426.702521\n",
       "2011-02-09 TX_1     FOODS   -515.173677\n",
       "2011-02-10 TX_1     FOODS   -885.374833\n",
       "2011-02-11 TX_1     FOODS   -423.105989\n",
       "2011-02-12 TX_1     FOODS    683.082855\n",
       "2011-02-13 TX_1     FOODS   1696.741700\n",
       "2011-02-14 TX_1     FOODS   -850.199456\n",
       "2011-02-15 TX_1     FOODS   -262.220612\n",
       "2011-02-16 TX_1     FOODS   -911.651768\n",
       "2011-02-17 TX_1     FOODS  -1157.412924"
      ]
     },
     "execution_count": 19,
     "metadata": {},
     "output_type": "execute_result"
    }
   ],
   "source": [
    "# impute missing sales\n",
    "sales_df2 = sales_df2.drop(columns = ['anomaly'])\n",
    "sales_df2.set_index(['date', 'store_id', 'cat_id'], inplace = True)\n",
    "sales_df2['sales'] = sales_df2['sales'].interpolate()\n",
    "sales_df2.head(20)"
   ]
  },
  {
   "cell_type": "markdown",
   "metadata": {
    "id": "PcMj_UojXgBg"
   },
   "source": [
    "With these data quality checks done, we have completed Milestone 1 and prepared our preprocessed data. Good job!\n",
    "\n",
    "Now let's save our preprocessed data as `sales_processed.csv` in the data folder."
   ]
  },
  {
   "cell_type": "markdown",
   "metadata": {
    "id": "0qetS6b3XgBj"
   },
   "source": [
    "<ins>Instructions</ins>:<br>\n",
    "- Save the preprocessed data as `sales_processed.csv` in the data folder"
   ]
  },
  {
   "cell_type": "markdown",
   "metadata": {
    "id": "0IgNQOP_Y3rl"
   },
   "source": [
    "<ins>Hints</ins> (click when needed):<br>\n",
    "- [Use Pandas `to_csv` method to save your output as CSV file](https://pandas.pydata.org/docs/reference/api/pandas.DataFrame.to_csv.html)"
   ]
  },
  {
   "cell_type": "code",
   "execution_count": 20,
   "metadata": {
    "id": "thfGUShkXgBj"
   },
   "outputs": [],
   "source": [
    "# write to CSV\n",
    "sales_df2.reset_index(drop = False).to_csv('sales_processed.csv', index = False)"
   ]
  },
  {
   "cell_type": "markdown",
   "metadata": {
    "id": "YjBX0UgzY3rl"
   },
   "source": [
    "Do check your answers against our solution before moving on to the next Milestone."
   ]
  }
 ],
 "metadata": {
  "colab": {
   "collapsed_sections": [],
   "name": "Prepare_and_Analyze_Time_Series_Milestone_1_Workflow.ipynb",
   "provenance": []
  },
  "interpreter": {
   "hash": "b7bc2e76cbe5fb8595f4ba211d5aadd6fa3b8e13e3681bdb0f26937058245569"
  },
  "kernelspec": {
   "display_name": "Python 3",
   "language": "python",
   "name": "python3"
  },
  "language_info": {
   "codemirror_mode": {
    "name": "ipython",
    "version": 3
   },
   "file_extension": ".py",
   "mimetype": "text/x-python",
   "name": "python",
   "nbconvert_exporter": "python",
   "pygments_lexer": "ipython3",
   "version": "3.6.10"
  }
 },
 "nbformat": 4,
 "nbformat_minor": 1
}
